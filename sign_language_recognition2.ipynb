{
 "cells": [
  {
   "cell_type": "code",
   "execution_count": 18,
   "metadata": {},
   "outputs": [],
   "source": [
    "import json\n",
    "import os\n",
    "import cv2\n",
    "import requests\n",
    "from pathlib import Path\n",
    "from tqdm import tqdm"
   ]
  },
  {
   "cell_type": "code",
   "execution_count": 19,
   "metadata": {},
   "outputs": [],
   "source": [
    "# Define paths\n",
    "data_dir = 'sign_language_data'\n",
    "video_dir = os.path.join(data_dir, 'videos')\n",
    "frames_dir = os.path.join(data_dir, 'frames')\n",
    "\n",
    "# Create directories if they do not exist\n",
    "Path(video_dir).mkdir(parents=True, exist_ok=True)\n",
    "Path(frames_dir).mkdir(parents=True, exist_ok=True)"
   ]
  },
  {
   "cell_type": "code",
   "execution_count": 20,
   "metadata": {},
   "outputs": [],
   "source": [
    "# Load the JSON dataset file\n",
    "with open('C:\\\\Users\\\\DELL\\\\Desktop\\\\Sign Language Recognition\\\\WLASL_v0.3.json', 'r') as f:\n",
    "    data = json.load(f)"
   ]
  },
  {
   "cell_type": "code",
   "execution_count": 25,
   "metadata": {},
   "outputs": [],
   "source": [
    "# Define the number of videos to download per gloss\n",
    "VIDEOS_PER_GLOSS = 5\n",
    "\n",
    "import requests\n",
    "from time import sleep\n",
    "\n",
    "def download_video(url, save_path, retries=3):\n",
    "    \"\"\"Download video from a URL with retry logic.\"\"\"\n",
    "    attempt = 0\n",
    "    while attempt < retries:\n",
    "        try:\n",
    "            response = requests.get(url, stream=True, timeout=10)\n",
    "            response.raise_for_status()  # Check for HTTP errors\n",
    "            with open(save_path, 'wb') as f:\n",
    "                for chunk in response.iter_content(chunk_size=8192):\n",
    "                    if chunk:\n",
    "                        f.write(chunk)\n",
    "            print(f\"Downloaded {url} to {save_path}\")\n",
    "            return  # Exit if download is successful\n",
    "        except requests.exceptions.RequestException as e:\n",
    "            print(f\"Error downloading {url}: {e}\")\n",
    "            attempt += 1\n",
    "            print(f\"Retrying {attempt}/{retries}...\")\n",
    "            sleep(5)  # Wait before retrying\n",
    "    print(f\"Failed to download {url} after {retries} attempts.\")"
   ]
  },
  {
   "cell_type": "code",
   "execution_count": 26,
   "metadata": {},
   "outputs": [],
   "source": [
    "def extract_frames(video_path, gloss):\n",
    "    \"\"\"Extract frames from a video and save them.\"\"\"\n",
    "    cap = cv2.VideoCapture(video_path)\n",
    "    frame_count = int(cap.get(cv2.CAP_PROP_FRAME_COUNT))\n",
    "    fps = cap.get(cv2.CAP_PROP_FPS)\n",
    "    \n",
    "    # Ensure interval is at least 1\n",
    "    interval = max(int(fps // 2), 1)  # Extract frame every half second or at least every frame if fps is low\n",
    "    \n",
    "    for i in range(0, frame_count, interval):\n",
    "        cap.set(cv2.CAP_PROP_POS_FRAMES, i)\n",
    "        ret, frame = cap.read()\n",
    "        if not ret:\n",
    "            break\n",
    "        frame_file = os.path.join(frames_dir, f'{gloss}_frame_{i}.jpg')\n",
    "        cv2.imwrite(frame_file, frame)\n",
    "    \n",
    "    cap.release()\n"
   ]
  },
  {
   "cell_type": "code",
   "execution_count": 27,
   "metadata": {},
   "outputs": [
    {
     "name": "stderr",
     "output_type": "stream",
     "text": [
      "  0%|          | 6/2000 [00:53<4:58:53,  8.99s/it]"
     ]
    },
    {
     "name": "stdout",
     "output_type": "stream",
     "text": [
      "Error downloading http://www.aslpro.com//main/c/clothes.swf: ('Connection aborted.', ConnectionResetError(10054, 'An existing connection was forcibly closed by the remote host', None, 10054, None))\n",
      "Retrying 1/3...\n",
      "Error downloading http://www.aslpro.com//main/c/clothes.swf: ('Connection aborted.', ConnectionResetError(10054, 'An existing connection was forcibly closed by the remote host', None, 10054, None))\n",
      "Retrying 2/3...\n",
      "Error downloading http://www.aslpro.com//main/c/clothes.swf: ('Connection aborted.', ConnectionResetError(10054, 'An existing connection was forcibly closed by the remote host', None, 10054, None))\n",
      "Retrying 3/3...\n",
      "Failed to download http://www.aslpro.com//main/c/clothes.swf after 3 attempts.\n",
      "Error downloading http://www.aslpro.com//main/c/clothes_winter.swf: ('Connection aborted.', ConnectionResetError(10054, 'An existing connection was forcibly closed by the remote host', None, 10054, None))\n",
      "Retrying 1/3...\n",
      "Error downloading http://www.aslpro.com//main/c/clothes_winter.swf: ('Connection aborted.', ConnectionResetError(10054, 'An existing connection was forcibly closed by the remote host', None, 10054, None))\n",
      "Retrying 2/3...\n",
      "Error downloading http://www.aslpro.com//main/c/clothes_winter.swf: ('Connection aborted.', ConnectionResetError(10054, 'An existing connection was forcibly closed by the remote host', None, 10054, None))\n",
      "Retrying 3/3...\n",
      "Failed to download http://www.aslpro.com//main/c/clothes_winter.swf after 3 attempts.\n"
     ]
    },
    {
     "name": "stderr",
     "output_type": "stream",
     "text": [
      "  0%|          | 7/2000 [01:29<9:51:17, 17.80s/it]"
     ]
    },
    {
     "name": "stdout",
     "output_type": "stream",
     "text": [
      "Downloaded https://www.youtube.com/watch?v=A5dihMAjeTE to sign_language_data\\videos\\who_63219.mp4\n",
      "Downloaded http://aslbricks.org/New/ASL-Videos/who.mp4 to sign_language_data\\videos\\who_69534.mp4\n",
      "Downloaded https://www.youtube.com/watch?v=SQUHKsHMUiw to sign_language_data\\videos\\who_68890.mp4\n",
      "Downloaded https://www.youtube.com/watch?v=Xx8ZjswBRLY to sign_language_data\\videos\\who_68183.mp4\n",
      "Downloaded https://www.youtube.com/watch?v=pBnGrdxhxHQ to sign_language_data\\videos\\who_63239.mp4\n"
     ]
    },
    {
     "name": "stderr",
     "output_type": "stream",
     "text": [
      "  0%|          | 8/2000 [01:43<9:02:13, 16.33s/it]"
     ]
    },
    {
     "name": "stdout",
     "output_type": "stream",
     "text": [
      "Downloaded https://www.youtube.com/watch?v=PPmQd2zWdP0 to sign_language_data\\videos\\candy_08909.mp4\n",
      "Downloaded https://www.youtube.com/watch?v=LMQ4kaHPS48 to sign_language_data\\videos\\candy_68018.mp4\n",
      "Downloaded https://www.youtube.com/watch?v=pc0-gVEETVg to sign_language_data\\videos\\candy_70326.mp4\n",
      "Downloaded https://www.youtube.com/watch?v=PfobLrBH5G8 to sign_language_data\\videos\\candy_68790.mp4\n",
      "Error downloading http://www.aslpro.com/main/c/candy.swf: ('Connection aborted.', ConnectionResetError(10054, 'An existing connection was forcibly closed by the remote host', None, 10054, None))\n",
      "Retrying 1/3...\n",
      "Error downloading http://www.aslpro.com/main/c/candy.swf: ('Connection aborted.', ConnectionResetError(10054, 'An existing connection was forcibly closed by the remote host', None, 10054, None))\n",
      "Retrying 2/3...\n",
      "Error downloading http://www.aslpro.com/main/c/candy.swf: ('Connection aborted.', ConnectionResetError(10054, 'An existing connection was forcibly closed by the remote host', None, 10054, None))\n",
      "Retrying 3/3...\n"
     ]
    },
    {
     "name": "stderr",
     "output_type": "stream",
     "text": [
      "  0%|          | 9/2000 [02:09<10:45:27, 19.45s/it]"
     ]
    },
    {
     "name": "stdout",
     "output_type": "stream",
     "text": [
      "Failed to download http://www.aslpro.com/main/c/candy.swf after 3 attempts.\n",
      "Downloaded https://aslsignbank.haskins.yale.edu/dictionary/protected_media/glossvideo/ASL/CO/COUSIN-1171.mp4 to sign_language_data\\videos\\cousin_65415.mp4\n",
      "Downloaded https://www.youtube.com/watch?v=bq-HmgjGzmw to sign_language_data\\videos\\cousin_70332.mp4\n",
      "Downloaded https://www.youtube.com/watch?v=jC6sHiZBEyI to sign_language_data\\videos\\cousin_68592.mp4\n",
      "Error downloading http://www.aslsearch.com/signs/videos/cousin3.mp4: HTTPConnectionPool(host='www.aslsearch.com', port=80): Max retries exceeded with url: /signs/videos/cousin3.mp4 (Caused by NameResolutionError(\"<urllib3.connection.HTTPConnection object at 0x000001EE6EA93BC0>: Failed to resolve 'www.aslsearch.com' ([Errno 11001] getaddrinfo failed)\"))\n",
      "Retrying 1/3...\n",
      "Error downloading http://www.aslsearch.com/signs/videos/cousin3.mp4: HTTPConnectionPool(host='www.aslsearch.com', port=80): Max retries exceeded with url: /signs/videos/cousin3.mp4 (Caused by NameResolutionError(\"<urllib3.connection.HTTPConnection object at 0x000001EE6EADD760>: Failed to resolve 'www.aslsearch.com' ([Errno 11001] getaddrinfo failed)\"))\n",
      "Retrying 2/3...\n",
      "Error downloading http://www.aslsearch.com/signs/videos/cousin3.mp4: HTTPConnectionPool(host='www.aslsearch.com', port=80): Max retries exceeded with url: /signs/videos/cousin3.mp4 (Caused by NameResolutionError(\"<urllib3.connection.HTTPConnection object at 0x000001EE6EADE840>: Failed to resolve 'www.aslsearch.com' ([Errno 11001] getaddrinfo failed)\"))\n",
      "Retrying 3/3...\n",
      "Failed to download http://www.aslsearch.com/signs/videos/cousin3.mp4 after 3 attempts.\n",
      "Error downloading http://www.aslsearch.com/signs/videos/cousin.mp4: HTTPConnectionPool(host='www.aslsearch.com', port=80): Max retries exceeded with url: /signs/videos/cousin.mp4 (Caused by NameResolutionError(\"<urllib3.connection.HTTPConnection object at 0x000001EE6EADD730>: Failed to resolve 'www.aslsearch.com' ([Errno 11001] getaddrinfo failed)\"))\n",
      "Retrying 1/3...\n",
      "Error downloading http://www.aslsearch.com/signs/videos/cousin.mp4: HTTPConnectionPool(host='www.aslsearch.com', port=80): Max retries exceeded with url: /signs/videos/cousin.mp4 (Caused by NameResolutionError(\"<urllib3.connection.HTTPConnection object at 0x000001EE6EADD4C0>: Failed to resolve 'www.aslsearch.com' ([Errno 11001] getaddrinfo failed)\"))\n",
      "Retrying 2/3...\n",
      "Error downloading http://www.aslsearch.com/signs/videos/cousin.mp4: HTTPConnectionPool(host='www.aslsearch.com', port=80): Max retries exceeded with url: /signs/videos/cousin.mp4 (Caused by NameResolutionError(\"<urllib3.connection.HTTPConnection object at 0x000001EE6EADF590>: Failed to resolve 'www.aslsearch.com' ([Errno 11001] getaddrinfo failed)\"))\n",
      "Retrying 3/3...\n"
     ]
    },
    {
     "name": "stderr",
     "output_type": "stream",
     "text": [
      "  0%|          | 10/2000 [02:46<13:46:06, 24.91s/it]"
     ]
    },
    {
     "name": "stdout",
     "output_type": "stream",
     "text": [
      "Failed to download http://www.aslsearch.com/signs/videos/cousin.mp4 after 3 attempts.\n",
      "Downloaded https://www.youtube.com/watch?v=ChIupJBcxjs to sign_language_data\\videos\\deaf_14855.mp4\n",
      "Downloaded https://www.youtube.com/watch?v=25ymRY7hbjs to sign_language_data\\videos\\deaf_70015.mp4\n",
      "Downloaded https://www.youtube.com/watch?v=J9hiREjgVe0 to sign_language_data\\videos\\deaf_68586.mp4\n",
      "Downloaded https://www.youtube.com/watch?v=Qvn5RGyb0po to sign_language_data\\videos\\deaf_68033.mp4\n",
      "Downloaded https://www.youtube.com/watch?v=sP4e9vRUCYM to sign_language_data\\videos\\deaf_14899.mp4\n"
     ]
    },
    {
     "name": "stderr",
     "output_type": "stream",
     "text": [
      "  1%|          | 11/2000 [02:56<11:18:43, 20.47s/it]"
     ]
    },
    {
     "name": "stdout",
     "output_type": "stream",
     "text": [
      "Error downloading https://aslsignbank.haskins.yale.edu/dictionary/protected_media/glossvideo/ASL/FI/FINE-455.mp4: 404 Client Error: Not Found for url: https://aslsignbank.haskins.yale.edu/dictionary/protected_media/glossvideo/ASL/FI/FINE-455.mp4/\n",
      "Retrying 1/3...\n",
      "Error downloading https://aslsignbank.haskins.yale.edu/dictionary/protected_media/glossvideo/ASL/FI/FINE-455.mp4: 404 Client Error: Not Found for url: https://aslsignbank.haskins.yale.edu/dictionary/protected_media/glossvideo/ASL/FI/FINE-455.mp4/\n",
      "Retrying 2/3...\n",
      "Error downloading https://aslsignbank.haskins.yale.edu/dictionary/protected_media/glossvideo/ASL/FI/FINE-455.mp4: 404 Client Error: Not Found for url: https://aslsignbank.haskins.yale.edu/dictionary/protected_media/glossvideo/ASL/FI/FINE-455.mp4/\n",
      "Retrying 3/3...\n",
      "Failed to download https://aslsignbank.haskins.yale.edu/dictionary/protected_media/glossvideo/ASL/FI/FINE-455.mp4 after 3 attempts.\n",
      "Downloaded https://www.youtube.com/watch?v=4Nh1iFv2BMc to sign_language_data\\videos\\fine_70234.mp4\n",
      "Downloaded https://www.youtube.com/watch?v=Yey5VEZE-_g to sign_language_data\\videos\\fine_68048.mp4\n",
      "Downloaded https://www.youtube.com/watch?v=IuBUE7SH1Wk to sign_language_data\\videos\\fine_21885.mp4\n",
      "Downloaded https://www.youtube.com/watch?v=OHHKerxHJjQ to sign_language_data\\videos\\fine_21886.mp4\n"
     ]
    },
    {
     "name": "stderr",
     "output_type": "stream",
     "text": [
      "  1%|          | 12/2000 [03:25<12:42:19, 23.01s/it]"
     ]
    },
    {
     "name": "stdout",
     "output_type": "stream",
     "text": [
      "Downloaded https://www.youtube.com/watch?v=SiBub8VD5wo to sign_language_data\\videos\\help_27194.mp4\n",
      "Downloaded http://aslbricks.org/New/ASL-Videos/help.mp4 to sign_language_data\\videos\\help_69364.mp4\n",
      "Downloaded https://www.youtube.com/watch?v=RStYX5OXPjE to sign_language_data\\videos\\help_27219.mp4\n",
      "Error downloading http://www.aslpro.com/main/h/help.swf: ('Connection aborted.', ConnectionResetError(10054, 'An existing connection was forcibly closed by the remote host', None, 10054, None))\n",
      "Retrying 1/3...\n",
      "Error downloading http://www.aslpro.com/main/h/help.swf: ('Connection aborted.', ConnectionResetError(10054, 'An existing connection was forcibly closed by the remote host', None, 10054, None))\n",
      "Retrying 2/3...\n",
      "Error downloading http://www.aslpro.com/main/h/help.swf: ('Connection aborted.', ConnectionResetError(10054, 'An existing connection was forcibly closed by the remote host', None, 10054, None))\n",
      "Retrying 3/3...\n",
      "Failed to download http://www.aslpro.com/main/h/help.swf after 3 attempts.\n",
      "Error downloading http://www.aslsearch.com/signs/videos/help.mp4: HTTPConnectionPool(host='www.aslsearch.com', port=80): Max retries exceeded with url: /signs/videos/help.mp4 (Caused by NameResolutionError(\"<urllib3.connection.HTTPConnection object at 0x000001EE7463C230>: Failed to resolve 'www.aslsearch.com' ([Errno 11001] getaddrinfo failed)\"))\n",
      "Retrying 1/3...\n",
      "Error downloading http://www.aslsearch.com/signs/videos/help.mp4: HTTPConnectionPool(host='www.aslsearch.com', port=80): Max retries exceeded with url: /signs/videos/help.mp4 (Caused by NameResolutionError(\"<urllib3.connection.HTTPConnection object at 0x000001EE7463C440>: Failed to resolve 'www.aslsearch.com' ([Errno 11001] getaddrinfo failed)\"))\n",
      "Retrying 2/3...\n",
      "Error downloading http://www.aslsearch.com/signs/videos/help.mp4: HTTPConnectionPool(host='www.aslsearch.com', port=80): Max retries exceeded with url: /signs/videos/help.mp4 (Caused by NameResolutionError(\"<urllib3.connection.HTTPConnection object at 0x000001EE7463DA60>: Failed to resolve 'www.aslsearch.com' ([Errno 11001] getaddrinfo failed)\"))\n",
      "Retrying 3/3...\n"
     ]
    },
    {
     "name": "stderr",
     "output_type": "stream",
     "text": [
      "  1%|          | 13/2000 [04:09<16:09:30, 29.28s/it]"
     ]
    },
    {
     "name": "stdout",
     "output_type": "stream",
     "text": [
      "Failed to download http://www.aslsearch.com/signs/videos/help.mp4 after 3 attempts.\n",
      "Downloaded https://www.youtube.com/watch?v=1_jXxjd0lKE to sign_language_data\\videos\\no_38482.mp4\n",
      "Downloaded http://aslbricks.org/New/ASL-Videos/no.mp4 to sign_language_data\\videos\\no_69411.mp4\n",
      "Downloaded https://www.youtube.com/watch?v=BqmquW0f1ok to sign_language_data\\videos\\no_68110.mp4\n",
      "Downloaded https://www.youtube.com/watch?v=Dd95RFhtSs4 to sign_language_data\\videos\\no_68406.mp4\n",
      "Downloaded https://www.youtube.com/watch?v=nyUDOPmQlZQ to sign_language_data\\videos\\no_38539.mp4\n"
     ]
    },
    {
     "name": "stderr",
     "output_type": "stream",
     "text": [
      "  1%|          | 14/2000 [04:29<14:33:34, 26.39s/it]"
     ]
    },
    {
     "name": "stdout",
     "output_type": "stream",
     "text": [
      "Downloaded https://www.youtube.com/watch?v=x6CehcknaH8 to sign_language_data\\videos\\thin_57919.mp4\n",
      "Downloaded https://www.signingsavvy.com/signs/mp4/22/22387.mp4 to sign_language_data\\videos\\thin_57948.mp4\n",
      "Downloaded https://www.signingsavvy.com/signs/mp4/22/22387.mp4 to sign_language_data\\videos\\thin_57949.mp4\n",
      "Downloaded https://www.youtube.com/watch?v=5IGeT5NK79A to sign_language_data\\videos\\thin_57950.mp4\n",
      "Error downloading http://www.aslpro.com/main/t/thin.swf: ('Connection aborted.', ConnectionResetError(10054, 'An existing connection was forcibly closed by the remote host', None, 10054, None))\n",
      "Retrying 1/3...\n",
      "Error downloading http://www.aslpro.com/main/t/thin.swf: ('Connection aborted.', ConnectionResetError(10054, 'An existing connection was forcibly closed by the remote host', None, 10054, None))\n",
      "Retrying 2/3...\n",
      "Error downloading http://www.aslpro.com/main/t/thin.swf: ('Connection aborted.', ConnectionResetError(10054, 'An existing connection was forcibly closed by the remote host', None, 10054, None))\n",
      "Retrying 3/3...\n"
     ]
    },
    {
     "name": "stderr",
     "output_type": "stream",
     "text": [
      "  1%|          | 15/2000 [04:54<14:20:08, 26.00s/it]"
     ]
    },
    {
     "name": "stdout",
     "output_type": "stream",
     "text": [
      "Failed to download http://www.aslpro.com/main/t/thin.swf after 3 attempts.\n",
      "Downloaded https://www.youtube.com/watch?v=A5dihMAjeTE to sign_language_data\\videos\\walk_62152.mp4\n",
      "Downloaded https://www.youtube.com/watch?v=r9Rten33zC8 to sign_language_data\\videos\\walk_68852.mp4\n",
      "Downloaded https://www.youtube.com/watch?v=tRJ29Rh8pGg to sign_language_data\\videos\\walk_68918.mp4\n",
      "Downloaded https://www.youtube.com/watch?v=XdA0TlfPB48 to sign_language_data\\videos\\walk_68177.mp4\n",
      "Downloaded https://www.youtube.com/watch?v=xFxoieTtJlA to sign_language_data\\videos\\walk_62173.mp4\n"
     ]
    },
    {
     "name": "stderr",
     "output_type": "stream",
     "text": [
      "  1%|          | 16/2000 [05:05<11:52:14, 21.54s/it]"
     ]
    },
    {
     "name": "stdout",
     "output_type": "stream",
     "text": [
      "Downloaded https://www.youtube.com/watch?v=BRO-oYGV224 to sign_language_data\\videos\\year_64201.mp4\n",
      "Downloaded https://signstock.blob.core.windows.net/signschool/videos/db_uploads/SignSchool%20Year-8JUNM67_g9g.mp4 to sign_language_data\\videos\\year_64211.mp4\n",
      "Downloaded https://www.youtube.com/watch?v=DnDbjT1fq8I to sign_language_data\\videos\\year_68416.mp4\n",
      "Downloaded https://www.youtube.com/watch?v=dsuL3WA2Krw to sign_language_data\\videos\\year_68190.mp4\n",
      "Downloaded https://www.youtube.com/watch?v=pc0-gVEETVg to sign_language_data\\videos\\year_70306.mp4\n"
     ]
    },
    {
     "name": "stderr",
     "output_type": "stream",
     "text": [
      "  1%|          | 17/2000 [05:17<10:21:21, 18.80s/it]"
     ]
    },
    {
     "name": "stdout",
     "output_type": "stream",
     "text": [
      "Downloaded https://www.youtube.com/watch?v=BRO-oYGV224 to sign_language_data\\videos\\yes_64275.mp4\n",
      "Downloaded http://aslbricks.org/New/ASL-Videos/yes.mp4 to sign_language_data\\videos\\yes_69546.mp4\n",
      "Downloaded https://media.asldeafined.com/vocabulary/1468774983.6377.mp4 to sign_language_data\\videos\\yes_64287.mp4\n",
      "Downloaded https://www.youtube.com/watch?v=-on_5PoBEak to sign_language_data\\videos\\yes_68192.mp4\n",
      "Error downloading https://www.handspeak.com/word/y/yes.mp4: 403 Client Error: Forbidden for url: https://www.handspeak.com/word/y/yes.mp4\n",
      "Retrying 1/3...\n",
      "Error downloading https://www.handspeak.com/word/y/yes.mp4: 403 Client Error: Forbidden for url: https://www.handspeak.com/word/y/yes.mp4\n",
      "Retrying 2/3...\n",
      "Error downloading https://www.handspeak.com/word/y/yes.mp4: 403 Client Error: Forbidden for url: https://www.handspeak.com/word/y/yes.mp4\n",
      "Retrying 3/3...\n"
     ]
    },
    {
     "name": "stderr",
     "output_type": "stream",
     "text": [
      "  1%|          | 18/2000 [05:49<12:26:13, 22.59s/it]"
     ]
    },
    {
     "name": "stdout",
     "output_type": "stream",
     "text": [
      "Failed to download https://www.handspeak.com/word/y/yes.mp4 after 3 attempts.\n",
      "Downloaded https://www.youtube.com/watch?v=jPn0FQxkdBc to sign_language_data\\videos\\all_01912.mp4\n",
      "Downloaded http://aslbricks.org/New/ASL-Videos/all.mp4 to sign_language_data\\videos\\all_69206.mp4\n",
      "Downloaded https://www.youtube.com/watch?v=Gmj2_uVjhqI to sign_language_data\\videos\\all_68001.mp4\n",
      "Downloaded https://www.youtube.com/watch?v=My4w56H6qwk to sign_language_data\\videos\\all_68720.mp4\n",
      "Error downloading http://www.aslpro.com/main/a/all.swf: ('Connection aborted.', ConnectionResetError(10054, 'An existing connection was forcibly closed by the remote host', None, 10054, None))\n",
      "Retrying 1/3...\n",
      "Error downloading http://www.aslpro.com/main/a/all.swf: ('Connection aborted.', ConnectionResetError(10054, 'An existing connection was forcibly closed by the remote host', None, 10054, None))\n",
      "Retrying 2/3...\n",
      "Error downloading http://www.aslpro.com/main/a/all.swf: ('Connection aborted.', ConnectionResetError(10054, 'An existing connection was forcibly closed by the remote host', None, 10054, None))\n",
      "Retrying 3/3...\n"
     ]
    },
    {
     "name": "stderr",
     "output_type": "stream",
     "text": [
      "  1%|          | 19/2000 [06:22<14:10:32, 25.76s/it]"
     ]
    },
    {
     "name": "stdout",
     "output_type": "stream",
     "text": [
      "Failed to download http://www.aslpro.com/main/a/all.swf after 3 attempts.\n",
      "Downloaded https://www.youtube.com/watch?v=pDqITge_TGs to sign_language_data\\videos\\black_06455.mp4\n",
      "Downloaded http://aslbricks.org/New/ASL-Videos/black.mp4 to sign_language_data\\videos\\black_69236.mp4\n",
      "Downloaded https://www.youtube.com/watch?v=2YRASxmXLD0 to sign_language_data\\videos\\black_68230.mp4\n",
      "Downloaded https://www.youtube.com/watch?v=WprUBqi3iBc to sign_language_data\\videos\\black_70244.mp4\n"
     ]
    },
    {
     "name": "stderr",
     "output_type": "stream",
     "text": [
      "  1%|          | 20/2000 [06:42<13:14:38, 24.08s/it]"
     ]
    },
    {
     "name": "stdout",
     "output_type": "stream",
     "text": [
      "Downloaded https://s3-us-west-1.amazonaws.com/files.startasl.com/asldictionary/black.mp4 to sign_language_data\\videos\\black_06472.mp4\n",
      "Downloaded http://aslbricks.org/New/ASL-Videos/cool.mp4 to sign_language_data\\videos\\cool_69281.mp4\n",
      "Downloaded https://aslsignbank.haskins.yale.edu/dictionary/protected_media/glossvideo/ASL/CO/COOL-1158.mp4 to sign_language_data\\videos\\cool_65403.mp4\n",
      "Downloaded https://www.youtube.com/watch?v=WGfiiDgrq1I to sign_language_data\\videos\\cool_70271.mp4\n",
      "Downloaded https://www.signingsavvy.com/signs/mp4/24/24134.mp4 to sign_language_data\\videos\\cool_13213.mp4\n",
      "Downloaded https://www.youtube.com/watch?v=pH3DDpGQe_E to sign_language_data\\videos\\cool_13214.mp4\n"
     ]
    },
    {
     "name": "stderr",
     "output_type": "stream",
     "text": [
      "  1%|          | 21/2000 [06:53<11:07:37, 20.24s/it]"
     ]
    },
    {
     "name": "stdout",
     "output_type": "stream",
     "text": [
      "Downloaded https://www.youtube.com/watch?v=lWaQxL25Aew to sign_language_data\\videos\\finish_21933.mp4\n",
      "Downloaded https://www.youtube.com/watch?v=bq-HmgjGzmw to sign_language_data\\videos\\finish_70361.mp4\n",
      "Downloaded https://www.youtube.com/watch?v=JDc62QM6-GU to sign_language_data\\videos\\finish_68050.mp4\n",
      "Downloaded https://www.youtube.com/watch?v=luSKhV7GMUo to sign_language_data\\videos\\finish_68674.mp4\n",
      "Downloaded https://www.youtube.com/watch?v=Mh3UZ1UsXzw to sign_language_data\\videos\\finish_68688.mp4\n"
     ]
    },
    {
     "name": "stderr",
     "output_type": "stream",
     "text": [
      "  1%|          | 22/2000 [07:04<9:36:48, 17.50s/it] "
     ]
    },
    {
     "name": "stdout",
     "output_type": "stream",
     "text": [
      "Downloaded https://www.youtube.com/watch?v=SiBub8VD5wo to sign_language_data\\videos\\hot_28074.mp4\n",
      "Downloaded http://aslbricks.org/New/ASL-Videos/hot.mp4 to sign_language_data\\videos\\hot_69368.mp4\n",
      "Downloaded https://www.youtube.com/watch?v=WGfiiDgrq1I to sign_language_data\\videos\\hot_70270.mp4\n",
      "Error downloading http://www.aslsearch.com/signs/videos/heat2.mp4: HTTPConnectionPool(host='www.aslsearch.com', port=80): Max retries exceeded with url: /signs/videos/heat2.mp4 (Caused by NameResolutionError(\"<urllib3.connection.HTTPConnection object at 0x000001EE6EADE690>: Failed to resolve 'www.aslsearch.com' ([Errno 11001] getaddrinfo failed)\"))\n",
      "Retrying 1/3...\n",
      "Error downloading http://www.aslsearch.com/signs/videos/heat2.mp4: HTTPConnectionPool(host='www.aslsearch.com', port=80): Max retries exceeded with url: /signs/videos/heat2.mp4 (Caused by NameResolutionError(\"<urllib3.connection.HTTPConnection object at 0x000001EE6EADF800>: Failed to resolve 'www.aslsearch.com' ([Errno 11001] getaddrinfo failed)\"))\n",
      "Retrying 2/3...\n",
      "Error downloading http://www.aslsearch.com/signs/videos/heat2.mp4: HTTPConnectionPool(host='www.aslsearch.com', port=80): Max retries exceeded with url: /signs/videos/heat2.mp4 (Caused by NameResolutionError(\"<urllib3.connection.HTTPConnection object at 0x000001EE6EA66570>: Failed to resolve 'www.aslsearch.com' ([Errno 11001] getaddrinfo failed)\"))\n",
      "Retrying 3/3...\n",
      "Failed to download http://www.aslsearch.com/signs/videos/heat2.mp4 after 3 attempts.\n"
     ]
    },
    {
     "name": "stderr",
     "output_type": "stream",
     "text": [
      "  1%|          | 23/2000 [07:32<11:20:05, 20.64s/it]"
     ]
    },
    {
     "name": "stdout",
     "output_type": "stream",
     "text": [
      "Downloaded https://s3-us-west-1.amazonaws.com/files.startasl.com/asldictionary/hot.mp4 to sign_language_data\\videos\\hot_28108.mp4\n",
      "Downloaded http://aslbricks.org/New/ASL-Videos/like.mp4 to sign_language_data\\videos\\like_69389.mp4\n",
      "Downloaded https://media.spreadthesign.com/video/mp4/13/457551.mp4 to sign_language_data\\videos\\like_33266.mp4\n",
      "Downloaded https://www.youtube.com/watch?v=0qeMFifNqC4 to sign_language_data\\videos\\like_68093.mp4\n",
      "Downloaded https://www.youtube.com/watch?v=CSj7IScvZnE to sign_language_data\\videos\\like_70299.mp4\n",
      "Error downloading http://www.aslsearch.com/signs/videos/like4.mp4: HTTPConnectionPool(host='www.aslsearch.com', port=80): Max retries exceeded with url: /signs/videos/like4.mp4 (Caused by NameResolutionError(\"<urllib3.connection.HTTPConnection object at 0x000001EE7463CF20>: Failed to resolve 'www.aslsearch.com' ([Errno 11001] getaddrinfo failed)\"))\n",
      "Retrying 1/3...\n",
      "Error downloading http://www.aslsearch.com/signs/videos/like4.mp4: HTTPConnectionPool(host='www.aslsearch.com', port=80): Max retries exceeded with url: /signs/videos/like4.mp4 (Caused by NameResolutionError(\"<urllib3.connection.HTTPConnection object at 0x000001EE7463DAC0>: Failed to resolve 'www.aslsearch.com' ([Errno 11001] getaddrinfo failed)\"))\n",
      "Retrying 2/3...\n",
      "Error downloading http://www.aslsearch.com/signs/videos/like4.mp4: HTTPConnectionPool(host='www.aslsearch.com', port=80): Max retries exceeded with url: /signs/videos/like4.mp4 (Caused by NameResolutionError(\"<urllib3.connection.HTTPConnection object at 0x000001EE7463D0A0>: Failed to resolve 'www.aslsearch.com' ([Errno 11001] getaddrinfo failed)\"))\n",
      "Retrying 3/3...\n"
     ]
    },
    {
     "name": "stderr",
     "output_type": "stream",
     "text": [
      "  1%|          | 24/2000 [07:58<12:06:17, 22.05s/it]"
     ]
    },
    {
     "name": "stdout",
     "output_type": "stream",
     "text": [
      "Failed to download http://www.aslsearch.com/signs/videos/like4.mp4 after 3 attempts.\n",
      "Downloaded https://www.youtube.com/watch?v=IxO7unGawfk to sign_language_data\\videos\\many_34822.mp4\n",
      "Downloaded http://aslbricks.org/New/ASL-Videos/many.mp4 to sign_language_data\\videos\\many_69396.mp4\n",
      "Downloaded https://www.youtube.com/watch?v=pc0-gVEETVg to sign_language_data\\videos\\many_70308.mp4\n",
      "Downloaded https://media.spreadthesign.com/video/mp4/13/246018.mp4 to sign_language_data\\videos\\many_34823.mp4\n",
      "Downloaded https://s3-us-west-1.amazonaws.com/files.startasl.com/asldictionary/many.mp4 to sign_language_data\\videos\\many_34824.mp4\n"
     ]
    },
    {
     "name": "stderr",
     "output_type": "stream",
     "text": [
      "  1%|▏         | 25/2000 [08:13<11:01:17, 20.09s/it]"
     ]
    },
    {
     "name": "stdout",
     "output_type": "stream",
     "text": [
      "Downloaded https://www.youtube.com/watch?v=IxO7unGawfk to sign_language_data\\videos\\mother_36927.mp4\n",
      "Downloaded http://aslbricks.org/New/ASL-Videos/mother.mp4 to sign_language_data\\videos\\mother_69402.mp4\n",
      "Error downloading http://www.aslpro.com/main/m/mother.swf: ('Connection aborted.', ConnectionResetError(10054, 'An existing connection was forcibly closed by the remote host', None, 10054, None))\n",
      "Retrying 1/3...\n",
      "Error downloading http://www.aslpro.com/main/m/mother.swf: ('Connection aborted.', ConnectionResetError(10054, 'An existing connection was forcibly closed by the remote host', None, 10054, None))\n",
      "Retrying 2/3...\n",
      "Error downloading http://www.aslpro.com/main/m/mother.swf: ('Connection aborted.', ConnectionResetError(10054, 'An existing connection was forcibly closed by the remote host', None, 10054, None))\n",
      "Retrying 3/3...\n",
      "Failed to download http://www.aslpro.com/main/m/mother.swf after 3 attempts.\n",
      "Error downloading http://www.aslsearch.com/signs/videos/mama.mp4: HTTPConnectionPool(host='www.aslsearch.com', port=80): Max retries exceeded with url: /signs/videos/mama.mp4 (Caused by NameResolutionError(\"<urllib3.connection.HTTPConnection object at 0x000001EE6E83D6D0>: Failed to resolve 'www.aslsearch.com' ([Errno 11001] getaddrinfo failed)\"))\n",
      "Retrying 1/3...\n",
      "Error downloading http://www.aslsearch.com/signs/videos/mama.mp4: HTTPConnectionPool(host='www.aslsearch.com', port=80): Max retries exceeded with url: /signs/videos/mama.mp4 (Caused by NameResolutionError(\"<urllib3.connection.HTTPConnection object at 0x000001EE5E1D83B0>: Failed to resolve 'www.aslsearch.com' ([Errno 11001] getaddrinfo failed)\"))\n",
      "Retrying 2/3...\n",
      "Error downloading http://www.aslsearch.com/signs/videos/mama.mp4: HTTPConnectionPool(host='www.aslsearch.com', port=80): Max retries exceeded with url: /signs/videos/mama.mp4 (Caused by NameResolutionError(\"<urllib3.connection.HTTPConnection object at 0x000001EE6EA67CE0>: Failed to resolve 'www.aslsearch.com' ([Errno 11001] getaddrinfo failed)\"))\n",
      "Retrying 3/3...\n",
      "Failed to download http://www.aslsearch.com/signs/videos/mama.mp4 after 3 attempts.\n"
     ]
    },
    {
     "name": "stderr",
     "output_type": "stream",
     "text": [
      "  1%|▏         | 26/2000 [08:59<15:15:11, 27.82s/it]"
     ]
    },
    {
     "name": "stdout",
     "output_type": "stream",
     "text": [
      "Downloaded https://s3-us-west-1.amazonaws.com/files.startasl.com/asldictionary/mother.mp4 to sign_language_data\\videos\\mother_36930.mp4\n",
      "Downloaded https://www.youtube.com/watch?v=1_jXxjd0lKE to sign_language_data\\videos\\now_38982.mp4\n",
      "Downloaded http://aslbricks.org/New/ASL-Videos/now.mp4 to sign_language_data\\videos\\now_69413.mp4\n",
      "Downloaded https://signstock.blob.core.windows.net/signschool/videos/db_uploads/SignSchool%20now-0wcuocGAvNU.mp4 to sign_language_data\\videos\\now_38994.mp4\n",
      "Downloaded https://www.youtube.com/watch?v=bq-HmgjGzmw to sign_language_data\\videos\\now_70345.mp4\n",
      "Downloaded https://www.youtube.com/watch?v=mKDG2tGn1Y8 to sign_language_data\\videos\\now_68694.mp4\n"
     ]
    },
    {
     "name": "stderr",
     "output_type": "stream",
     "text": [
      "  1%|▏         | 27/2000 [09:11<12:38:26, 23.06s/it]"
     ]
    },
    {
     "name": "stdout",
     "output_type": "stream",
     "text": [
      "Downloaded https://www.youtube.com/watch?v=K1VPkuTMpP0 to sign_language_data\\videos\\orange_40114.mp4\n",
      "Downloaded http://aslbricks.org/New/ASL-Videos/orange.mp4 to sign_language_data\\videos\\orange_69422.mp4\n",
      "Downloaded https://www.youtube.com/watch?v=pc0-gVEETVg to sign_language_data\\videos\\orange_70310.mp4\n",
      "Downloaded https://www.youtube.com/watch?v=WprUBqi3iBc to sign_language_data\\videos\\orange_70249.mp4\n",
      "Downloaded https://www.youtube.com/watch?v=WuwIz-vDMUc to sign_language_data\\videos\\orange_68122.mp4\n"
     ]
    },
    {
     "name": "stderr",
     "output_type": "stream",
     "text": [
      "  1%|▏         | 28/2000 [09:25<11:12:49, 20.47s/it]"
     ]
    },
    {
     "name": "stdout",
     "output_type": "stream",
     "text": [
      "Downloaded https://www.youtube.com/watch?v=x6CehcknaH8 to sign_language_data\\videos\\table_56552.mp4\n",
      "Downloaded https://www.youtube.com/watch?v=pc0-gVEETVg to sign_language_data\\videos\\table_70323.mp4\n",
      "Downloaded https://www.youtube.com/watch?v=VQMheRBg2Mw to sign_language_data\\videos\\table_68972.mp4\n",
      "Error downloading http://www.aslpro.com//main/t/table_place_setting.swf: ('Connection aborted.', ConnectionResetError(10054, 'An existing connection was forcibly closed by the remote host', None, 10054, None))\n",
      "Retrying 1/3...\n",
      "Error downloading http://www.aslpro.com//main/t/table_place_setting.swf: ('Connection aborted.', ConnectionResetError(10054, 'An existing connection was forcibly closed by the remote host', None, 10054, None))\n",
      "Retrying 2/3...\n",
      "Error downloading http://www.aslpro.com//main/t/table_place_setting.swf: ('Connection aborted.', ConnectionResetError(10054, 'An existing connection was forcibly closed by the remote host', None, 10054, None))\n",
      "Retrying 3/3...\n",
      "Failed to download http://www.aslpro.com//main/t/table_place_setting.swf after 3 attempts.\n",
      "Error downloading http://www.aslpro.com//main/t/table_stacking.swf: ('Connection aborted.', ConnectionResetError(10054, 'An existing connection was forcibly closed by the remote host', None, 10054, None))\n",
      "Retrying 1/3...\n",
      "Error downloading http://www.aslpro.com//main/t/table_stacking.swf: ('Connection aborted.', ConnectionResetError(10054, 'An existing connection was forcibly closed by the remote host', None, 10054, None))\n",
      "Retrying 2/3...\n",
      "Error downloading http://www.aslpro.com//main/t/table_stacking.swf: ('Connection aborted.', ConnectionResetError(10054, 'An existing connection was forcibly closed by the remote host', None, 10054, None))\n",
      "Retrying 3/3...\n"
     ]
    },
    {
     "name": "stderr",
     "output_type": "stream",
     "text": [
      "  1%|▏         | 29/2000 [10:06<14:33:35, 26.59s/it]"
     ]
    },
    {
     "name": "stdout",
     "output_type": "stream",
     "text": [
      "Failed to download http://www.aslpro.com//main/t/table_stacking.swf after 3 attempts.\n",
      "Downloaded https://www.youtube.com/watch?v=ZxOqr6aCVLc to sign_language_data\\videos\\thanksgiving_69092.mp4\n",
      "Downloaded https://www.youtube.com/watch?v=SX3ppKcVdKA to sign_language_data\\videos\\thanksgiving_57645.mp4\n",
      "Error downloading http://www.aslpro.com/main/t/thanksgiving.swf: ('Connection aborted.', ConnectionResetError(10054, 'An existing connection was forcibly closed by the remote host', None, 10054, None))\n",
      "Retrying 1/3...\n",
      "Error downloading http://www.aslpro.com/main/t/thanksgiving.swf: ('Connection aborted.', ConnectionResetError(10054, 'An existing connection was forcibly closed by the remote host', None, 10054, None))\n",
      "Retrying 2/3...\n",
      "Error downloading http://www.aslpro.com/main/t/thanksgiving.swf: ('Connection aborted.', ConnectionResetError(10054, 'An existing connection was forcibly closed by the remote host', None, 10054, None))\n",
      "Retrying 3/3...\n",
      "Failed to download http://www.aslpro.com/main/t/thanksgiving.swf after 3 attempts.\n",
      "Downloaded https://elementalaslconcepts.weebly.com/uploads/2/4/4/5/24454483/thanksgiving.mov to sign_language_data\\videos\\thanksgiving_57628.mp4\n",
      "Error downloading http://www.aslsearch.com/signs/videos/thanksgiving.mp4: HTTPConnectionPool(host='www.aslsearch.com', port=80): Max retries exceeded with url: /signs/videos/thanksgiving.mp4 (Caused by NameResolutionError(\"<urllib3.connection.HTTPConnection object at 0x000001EE6EADEB70>: Failed to resolve 'www.aslsearch.com' ([Errno 11001] getaddrinfo failed)\"))\n",
      "Retrying 1/3...\n",
      "Error downloading http://www.aslsearch.com/signs/videos/thanksgiving.mp4: HTTPConnectionPool(host='www.aslsearch.com', port=80): Max retries exceeded with url: /signs/videos/thanksgiving.mp4 (Caused by NameResolutionError(\"<urllib3.connection.HTTPConnection object at 0x000001EE7528F680>: Failed to resolve 'www.aslsearch.com' ([Errno 11001] getaddrinfo failed)\"))\n",
      "Retrying 2/3...\n",
      "Error downloading http://www.aslsearch.com/signs/videos/thanksgiving.mp4: HTTPConnectionPool(host='www.aslsearch.com', port=80): Max retries exceeded with url: /signs/videos/thanksgiving.mp4 (Caused by NameResolutionError(\"<urllib3.connection.HTTPConnection object at 0x000001EE7463C860>: Failed to resolve 'www.aslsearch.com' ([Errno 11001] getaddrinfo failed)\"))\n",
      "Retrying 3/3...\n"
     ]
    },
    {
     "name": "stderr",
     "output_type": "stream",
     "text": [
      "  2%|▏         | 30/2000 [10:44<16:24:03, 29.97s/it]"
     ]
    },
    {
     "name": "stdout",
     "output_type": "stream",
     "text": [
      "Failed to download http://www.aslsearch.com/signs/videos/thanksgiving.mp4 after 3 attempts.\n",
      "Downloaded https://www.youtube.com/watch?v=A5dihMAjeTE to sign_language_data\\videos\\what_62944.mp4\n",
      "Downloaded http://aslbricks.org/New/ASL-Videos/what.mp4 to sign_language_data\\videos\\what_69531.mp4\n",
      "Downloaded https://www.youtube.com/watch?v=AK26EQRsH7k to sign_language_data\\videos\\what_68330.mp4\n",
      "Downloaded https://signstock.blob.core.windows.net/signschool/videos/db_uploads/SignSchool%20What%202-xFO06HB3kFs.mp4 to sign_language_data\\videos\\what_62967.mp4\n",
      "Downloaded https://signstock.blob.core.windows.net/signschool/videos/db_uploads/SignSchool%20What-tzER8F2xbB0.mp4 to sign_language_data\\videos\\what_62968.mp4\n"
     ]
    },
    {
     "name": "stderr",
     "output_type": "stream",
     "text": [
      "  2%|▏         | 31/2000 [10:59<13:50:43, 25.31s/it]"
     ]
    },
    {
     "name": "stdout",
     "output_type": "stream",
     "text": [
      "Downloaded https://www.youtube.com/watch?v=A5dihMAjeTE to sign_language_data\\videos\\woman_63662.mp4\n",
      "Downloaded https://www.youtube.com/watch?v=i47aN_PUDvk to sign_language_data\\videos\\woman_68187.mp4\n",
      "Downloaded https://www.youtube.com/watch?v=OgcjUatW9LA to sign_language_data\\videos\\woman_68764.mp4\n",
      "Error downloading http://www.aslsearch.com/signs/videos/woman.mp4: HTTPConnectionPool(host='www.aslsearch.com', port=80): Max retries exceeded with url: /signs/videos/woman.mp4 (Caused by NameResolutionError(\"<urllib3.connection.HTTPConnection object at 0x000001EE6EADF650>: Failed to resolve 'www.aslsearch.com' ([Errno 11001] getaddrinfo failed)\"))\n",
      "Retrying 1/3...\n",
      "Error downloading http://www.aslsearch.com/signs/videos/woman.mp4: HTTPConnectionPool(host='www.aslsearch.com', port=80): Max retries exceeded with url: /signs/videos/woman.mp4 (Caused by NameResolutionError(\"<urllib3.connection.HTTPConnection object at 0x000001EE6EADC440>: Failed to resolve 'www.aslsearch.com' ([Errno 11001] getaddrinfo failed)\"))\n",
      "Retrying 2/3...\n",
      "Error downloading http://www.aslsearch.com/signs/videos/woman.mp4: HTTPConnectionPool(host='www.aslsearch.com', port=80): Max retries exceeded with url: /signs/videos/woman.mp4 (Caused by NameResolutionError(\"<urllib3.connection.HTTPConnection object at 0x000001EE6EADC560>: Failed to resolve 'www.aslsearch.com' ([Errno 11001] getaddrinfo failed)\"))\n",
      "Retrying 3/3...\n",
      "Failed to download http://www.aslsearch.com/signs/videos/woman.mp4 after 3 attempts.\n"
     ]
    },
    {
     "name": "stderr",
     "output_type": "stream",
     "text": [
      "  2%|▏         | 32/2000 [11:22<13:34:51, 24.84s/it]"
     ]
    },
    {
     "name": "stdout",
     "output_type": "stream",
     "text": [
      "Downloaded https://s3-us-west-1.amazonaws.com/files.startasl.com/asldictionary/woman2.mp4 to sign_language_data\\videos\\woman_63665.mp4\n",
      "Downloaded https://www.youtube.com/watch?v=pDqITge_TGs to sign_language_data\\videos\\bed_05628.mp4\n",
      "Error downloading http://www.aslpro.com/main/b/bed.swf: ('Connection aborted.', ConnectionResetError(10054, 'An existing connection was forcibly closed by the remote host', None, 10054, None))\n",
      "Retrying 1/3...\n",
      "Error downloading http://www.aslpro.com/main/b/bed.swf: ('Connection aborted.', ConnectionResetError(10054, 'An existing connection was forcibly closed by the remote host', None, 10054, None))\n",
      "Retrying 2/3...\n",
      "Error downloading http://www.aslpro.com/main/b/bed.swf: ('Connection aborted.', ConnectionResetError(10054, 'An existing connection was forcibly closed by the remote host', None, 10054, None))\n",
      "Retrying 3/3...\n",
      "Failed to download http://www.aslpro.com/main/b/bed.swf after 3 attempts.\n",
      "Error downloading http://www.aslsearch.com/signs/videos/bed.mp4: HTTPConnectionPool(host='www.aslsearch.com', port=80): Max retries exceeded with url: /signs/videos/bed.mp4 (Caused by NameResolutionError(\"<urllib3.connection.HTTPConnection object at 0x000001EE6D997E00>: Failed to resolve 'www.aslsearch.com' ([Errno 11001] getaddrinfo failed)\"))\n",
      "Retrying 1/3...\n",
      "Error downloading http://www.aslsearch.com/signs/videos/bed.mp4: HTTPConnectionPool(host='www.aslsearch.com', port=80): Max retries exceeded with url: /signs/videos/bed.mp4 (Caused by NameResolutionError(\"<urllib3.connection.HTTPConnection object at 0x000001EE6EADE030>: Failed to resolve 'www.aslsearch.com' ([Errno 11001] getaddrinfo failed)\"))\n",
      "Retrying 2/3...\n",
      "Error downloading http://www.aslsearch.com/signs/videos/bed.mp4: HTTPConnectionPool(host='www.aslsearch.com', port=80): Max retries exceeded with url: /signs/videos/bed.mp4 (Caused by NameResolutionError(\"<urllib3.connection.HTTPConnection object at 0x000001EE6EADFE60>: Failed to resolve 'www.aslsearch.com' ([Errno 11001] getaddrinfo failed)\"))\n",
      "Retrying 3/3...\n",
      "Failed to download http://www.aslsearch.com/signs/videos/bed.mp4 after 3 attempts.\n",
      "Downloaded https://media.spreadthesign.com/video/mp4/13/123626.mp4 to sign_language_data\\videos\\bed_05629.mp4\n",
      "Downloaded https://s3-us-west-1.amazonaws.com/files.startasl.com/asldictionary/bed.mp4 to sign_language_data\\videos\\bed_05630.mp4\n"
     ]
    },
    {
     "name": "stderr",
     "output_type": "stream",
     "text": [
      "  2%|▏         | 33/2000 [12:01<15:52:40, 29.06s/it]"
     ]
    },
    {
     "name": "stdout",
     "output_type": "stream",
     "text": [
      "Downloaded https://www.youtube.com/watch?v=pDqITge_TGs to sign_language_data\\videos\\blue_06822.mp4\n",
      "Downloaded http://aslbricks.org/New/ASL-Videos/blue.mp4 to sign_language_data\\videos\\blue_69238.mp4\n",
      "Downloaded https://www.youtube.com/watch?v=6I9PNDl8A_U to sign_language_data\\videos\\blue_68274.mp4\n",
      "Downloaded https://www.youtube.com/watch?v=ZpxhfHSHi7Q to sign_language_data\\videos\\blue_68010.mp4\n"
     ]
    },
    {
     "name": "stderr",
     "output_type": "stream",
     "text": [
      "  2%|▏         | 34/2000 [12:15<13:21:00, 24.45s/it]"
     ]
    },
    {
     "name": "stdout",
     "output_type": "stream",
     "text": [
      "Downloaded https://media.asldeafined.com/vocabulary/1466683577.262.mp4 to sign_language_data\\videos\\blue_06835.mp4\n",
      "Downloaded https://www.youtube.com/watch?v=pDqITge_TGs to sign_language_data\\videos\\bowling_07383.mp4\n",
      "Error downloading http://www.aslpro.com//main/b/bowling.swf: ('Connection aborted.', ConnectionResetError(10054, 'An existing connection was forcibly closed by the remote host', None, 10054, None))\n",
      "Retrying 1/3...\n",
      "Error downloading http://www.aslpro.com//main/b/bowling.swf: ('Connection aborted.', ConnectionResetError(10054, 'An existing connection was forcibly closed by the remote host', None, 10054, None))\n",
      "Retrying 2/3...\n",
      "Error downloading http://www.aslpro.com//main/b/bowling.swf: ('Connection aborted.', ConnectionResetError(10054, 'An existing connection was forcibly closed by the remote host', None, 10054, None))\n",
      "Retrying 3/3...\n",
      "Failed to download http://www.aslpro.com//main/b/bowling.swf after 3 attempts.\n",
      "Downloaded https://s3-us-west-1.amazonaws.com/files.startasl.com/asldictionary/bowling.mp4 to sign_language_data\\videos\\bowling_07389.mp4\n",
      "Downloaded https://signstock.blob.core.windows.net/signschool/videos/db_uploads/SignSchool%20Bowling%202-jScnRm5hYNo.mp4 to sign_language_data\\videos\\bowling_07390.mp4\n",
      "Downloaded https://signstock.blob.core.windows.net/signschool/videos/db_uploads/SignSchool%20Bowling%203-SF414zqKaLY.mp4 to sign_language_data\\videos\\bowling_07391.mp4\n"
     ]
    },
    {
     "name": "stderr",
     "output_type": "stream",
     "text": [
      "  2%|▏         | 35/2000 [12:43<13:52:37, 25.42s/it]"
     ]
    },
    {
     "name": "stdout",
     "output_type": "stream",
     "text": [
      "Downloaded http://aslbricks.org/New/ASL-Videos/can.mp4 to sign_language_data\\videos\\can_69257.mp4\n",
      "Downloaded https://aslsignbank.haskins.yale.edu/dictionary/protected_media/glossvideo/ASL/CA/CAN-426.mp4 to sign_language_data\\videos\\can_65294.mp4\n",
      "Downloaded https://www.youtube.com/watch?v=_jv2aC-37vQ to sign_language_data\\videos\\can_08950.mp4\n",
      "Downloaded https://www.youtube.com/watch?v=trqyl20lEno to sign_language_data\\videos\\can_08951.mp4\n",
      "Downloaded https://www.youtube.com/watch?v=-VJGz9f7DMY to sign_language_data\\videos\\can_08952.mp4\n"
     ]
    },
    {
     "name": "stderr",
     "output_type": "stream",
     "text": [
      "  2%|▏         | 36/2000 [12:54<11:32:54, 21.17s/it]"
     ]
    },
    {
     "name": "stdout",
     "output_type": "stream",
     "text": [
      "Downloaded https://www.youtube.com/watch?v=ChIupJBcxjs to sign_language_data\\videos\\dog_17076.mp4\n",
      "Downloaded http://aslbricks.org/New/ASL-Videos/dog.mp4 to sign_language_data\\videos\\dog_69298.mp4\n",
      "Downloaded https://www.youtube.com/watch?v=kMcaG9BjXXg to sign_language_data\\videos\\dog_68632.mp4\n",
      "Downloaded https://www.youtube.com/watch?v=_wQEymilNt4 to sign_language_data\\videos\\dog_68035.mp4\n",
      "Error downloading http://www.aslsearch.com/signs/videos/dog.mp4: HTTPConnectionPool(host='www.aslsearch.com', port=80): Max retries exceeded with url: /signs/videos/dog.mp4 (Caused by NameResolutionError(\"<urllib3.connection.HTTPConnection object at 0x000001EE6EADE6C0>: Failed to resolve 'www.aslsearch.com' ([Errno 11001] getaddrinfo failed)\"))\n",
      "Retrying 1/3...\n",
      "Error downloading http://www.aslsearch.com/signs/videos/dog.mp4: HTTPConnectionPool(host='www.aslsearch.com', port=80): Max retries exceeded with url: /signs/videos/dog.mp4 (Caused by NameResolutionError(\"<urllib3.connection.HTTPConnection object at 0x000001EE6EADED80>: Failed to resolve 'www.aslsearch.com' ([Errno 11001] getaddrinfo failed)\"))\n",
      "Retrying 2/3...\n",
      "Error downloading http://www.aslsearch.com/signs/videos/dog.mp4: HTTPConnectionPool(host='www.aslsearch.com', port=80): Max retries exceeded with url: /signs/videos/dog.mp4 (Caused by NameResolutionError(\"<urllib3.connection.HTTPConnection object at 0x000001EE6D996B70>: Failed to resolve 'www.aslsearch.com' ([Errno 11001] getaddrinfo failed)\"))\n",
      "Retrying 3/3...\n",
      "Failed to download http://www.aslsearch.com/signs/videos/dog.mp4 after 3 attempts.\n"
     ]
    },
    {
     "name": "stderr",
     "output_type": "stream",
     "text": [
      "  2%|▏         | 37/2000 [13:20<12:24:28, 22.76s/it]"
     ]
    },
    {
     "name": "stdout",
     "output_type": "stream",
     "text": [
      "Downloaded https://www.youtube.com/watch?v=lWaQxL25Aew to sign_language_data\\videos\\family_20976.mp4\n",
      "Downloaded http://aslbricks.org/New/ASL-Videos/family.mp4 to sign_language_data\\videos\\family_69316.mp4\n",
      "Downloaded https://www.youtube.com/watch?v=x3GJ5mFOpNA to sign_language_data\\videos\\family_69016.mp4\n",
      "Downloaded https://s3-us-west-1.amazonaws.com/files.startasl.com/asldictionary/family.mp4 to sign_language_data\\videos\\family_20980.mp4\n",
      "Downloaded https://signstock.blob.core.windows.net/signschool/videos/db_uploads/SignSchool%20Family-jPtV6Y2sUO4.mp4 to sign_language_data\\videos\\family_20981.mp4\n"
     ]
    },
    {
     "name": "stderr",
     "output_type": "stream",
     "text": [
      "  2%|▏         | 38/2000 [13:47<12:57:19, 23.77s/it]"
     ]
    },
    {
     "name": "stdout",
     "output_type": "stream",
     "text": [
      "Downloaded https://www.youtube.com/watch?v=lWaQxL25Aew to sign_language_data\\videos\\fish_22109.mp4\n",
      "Downloaded http://aslbricks.org/New/ASL-Videos/fish.mp4 to sign_language_data\\videos\\fish_69325.mp4\n",
      "Error downloading http://www.aslpro.com/main/f/fish.swf: ('Connection aborted.', ConnectionResetError(10054, 'An existing connection was forcibly closed by the remote host', None, 10054, None))\n",
      "Retrying 1/3...\n",
      "Error downloading http://www.aslpro.com/main/f/fish.swf: ('Connection aborted.', ConnectionResetError(10054, 'An existing connection was forcibly closed by the remote host', None, 10054, None))\n",
      "Retrying 2/3...\n",
      "Error downloading http://www.aslpro.com/main/f/fish.swf: ('Connection aborted.', ConnectionResetError(10054, 'An existing connection was forcibly closed by the remote host', None, 10054, None))\n",
      "Retrying 3/3...\n",
      "Failed to download http://www.aslpro.com/main/f/fish.swf after 3 attempts.\n",
      "Error downloading http://www.aslsearch.com/signs/videos/fish.mp4: HTTPConnectionPool(host='www.aslsearch.com', port=80): Max retries exceeded with url: /signs/videos/fish.mp4 (Caused by NameResolutionError(\"<urllib3.connection.HTTPConnection object at 0x000001EE6D997530>: Failed to resolve 'www.aslsearch.com' ([Errno 11001] getaddrinfo failed)\"))\n",
      "Retrying 1/3...\n",
      "Error downloading http://www.aslsearch.com/signs/videos/fish.mp4: HTTPConnectionPool(host='www.aslsearch.com', port=80): Max retries exceeded with url: /signs/videos/fish.mp4 (Caused by NameResolutionError(\"<urllib3.connection.HTTPConnection object at 0x000001EE6E83D370>: Failed to resolve 'www.aslsearch.com' ([Errno 11001] getaddrinfo failed)\"))\n",
      "Retrying 2/3...\n",
      "Error downloading http://www.aslsearch.com/signs/videos/fish.mp4: HTTPConnectionPool(host='www.aslsearch.com', port=80): Max retries exceeded with url: /signs/videos/fish.mp4 (Caused by NameResolutionError(\"<urllib3.connection.HTTPConnection object at 0x000001EE6EADD2B0>: Failed to resolve 'www.aslsearch.com' ([Errno 11001] getaddrinfo failed)\"))\n",
      "Retrying 3/3...\n",
      "Failed to download http://www.aslsearch.com/signs/videos/fish.mp4 after 3 attempts.\n"
     ]
    },
    {
     "name": "stderr",
     "output_type": "stream",
     "text": [
      "  2%|▏         | 39/2000 [14:27<15:42:39, 28.84s/it]"
     ]
    },
    {
     "name": "stdout",
     "output_type": "stream",
     "text": [
      "Downloaded https://media.spreadthesign.com/video/mp4/13/74988.mp4 to sign_language_data\\videos\\fish_22114.mp4\n",
      "Downloaded https://www.youtube.com/watch?v=YdHKN_wHZqo to sign_language_data\\videos\\graduate_25318.mp4\n",
      "Downloaded https://www.youtube.com/watch?v=F5Wef1_PtLk to sign_language_data\\videos\\graduate_70176.mp4\n",
      "Downloaded https://www.youtube.com/watch?v=HNp5UcfuRSI to sign_language_data\\videos\\graduate_68528.mp4\n",
      "Error downloading http://www.aslpro.com/main/g/graduate_person.swf: ('Connection aborted.', ConnectionResetError(10054, 'An existing connection was forcibly closed by the remote host', None, 10054, None))\n",
      "Retrying 1/3...\n",
      "Error downloading http://www.aslpro.com/main/g/graduate_person.swf: ('Connection aborted.', ConnectionResetError(10054, 'An existing connection was forcibly closed by the remote host', None, 10054, None))\n",
      "Retrying 2/3...\n",
      "Error downloading http://www.aslpro.com/main/g/graduate_person.swf: ('Connection aborted.', ConnectionResetError(10054, 'An existing connection was forcibly closed by the remote host', None, 10054, None))\n",
      "Retrying 3/3...\n",
      "Failed to download http://www.aslpro.com/main/g/graduate_person.swf after 3 attempts.\n",
      "Error downloading http://www.aslpro.com/main/g/graduate_verb.swf: ('Connection aborted.', ConnectionResetError(10054, 'An existing connection was forcibly closed by the remote host', None, 10054, None))\n",
      "Retrying 1/3...\n",
      "Error downloading http://www.aslpro.com/main/g/graduate_verb.swf: ('Connection aborted.', ConnectionResetError(10054, 'An existing connection was forcibly closed by the remote host', None, 10054, None))\n",
      "Retrying 2/3...\n",
      "Error downloading http://www.aslpro.com/main/g/graduate_verb.swf: ('Connection aborted.', ConnectionResetError(10054, 'An existing connection was forcibly closed by the remote host', None, 10054, None))\n",
      "Retrying 3/3...\n"
     ]
    },
    {
     "name": "stderr",
     "output_type": "stream",
     "text": [
      "  2%|▏         | 40/2000 [15:06<17:23:12, 31.94s/it]"
     ]
    },
    {
     "name": "stdout",
     "output_type": "stream",
     "text": [
      "Failed to download http://www.aslpro.com/main/g/graduate_verb.swf after 3 attempts.\n",
      "Downloaded https://www.youtube.com/watch?v=SiBub8VD5wo to sign_language_data\\videos\\hat_26688.mp4\n",
      "Downloaded http://aslbricks.org/New/ASL-Videos/hat.mp4 to sign_language_data\\videos\\hat_69359.mp4\n",
      "Downloaded https://www.youtube.com/watch?v=Cw7DfeqaQu0 to sign_language_data\\videos\\hat_68396.mp4\n",
      "Downloaded https://www.youtube.com/watch?v=M2pI7j5-mR0 to sign_language_data\\videos\\hat_68068.mp4\n",
      "Downloaded https://s3-us-west-1.amazonaws.com/files.startasl.com/asldictionary/hat.mp4 to sign_language_data\\videos\\hat_26713.mp4\n"
     ]
    },
    {
     "name": "stderr",
     "output_type": "stream",
     "text": [
      "  2%|▏         | 41/2000 [15:21<14:32:57, 26.74s/it]"
     ]
    },
    {
     "name": "stdout",
     "output_type": "stream",
     "text": [
      "Downloaded https://aslsignbank.haskins.yale.edu/dictionary/protected_media/glossvideo/ASL/HE/HEARING-1773.mp4 to sign_language_data\\videos\\hearing_65884.mp4\n",
      "Downloaded https://www.youtube.com/watch?v=25ymRY7hbjs to sign_language_data\\videos\\hearing_70016.mp4\n",
      "Downloaded https://www.youtube.com/watch?v=ba87IfnWL9s to sign_language_data\\videos\\hearing_68350.mp4\n",
      "Downloaded https://www.youtube.com/watch?v=x5cwBfSKnZc to sign_language_data\\videos\\hearing_68070.mp4\n"
     ]
    },
    {
     "name": "stderr",
     "output_type": "stream",
     "text": [
      "  2%|▏         | 42/2000 [15:31<11:45:06, 21.61s/it]"
     ]
    },
    {
     "name": "stdout",
     "output_type": "stream",
     "text": [
      "Downloaded https://s3-us-west-1.amazonaws.com/files.startasl.com/asldictionary/hearing.mp4 to sign_language_data\\videos\\hearing_26972.mp4\n",
      "Downloaded https://www.youtube.com/watch?v=D2Vg3lKjX78 to sign_language_data\\videos\\kiss_31746.mp4\n",
      "Downloaded https://www.youtube.com/watch?v=TT0VsmSeuEw to sign_language_data\\videos\\kiss_31765.mp4\n",
      "Error downloading http://www.aslpro.com/main/k/kiss.swf: ('Connection aborted.', ConnectionResetError(10054, 'An existing connection was forcibly closed by the remote host', None, 10054, None))\n",
      "Retrying 1/3...\n",
      "Error downloading http://www.aslpro.com/main/k/kiss.swf: ('Connection aborted.', ConnectionResetError(10054, 'An existing connection was forcibly closed by the remote host', None, 10054, None))\n",
      "Retrying 2/3...\n",
      "Error downloading http://www.aslpro.com/main/k/kiss.swf: ('Connection aborted.', ConnectionResetError(10054, 'An existing connection was forcibly closed by the remote host', None, 10054, None))\n",
      "Retrying 3/3...\n",
      "Failed to download http://www.aslpro.com/main/k/kiss.swf after 3 attempts.\n",
      "Error downloading http://www.aslsearch.com/signs/videos/kiss.mp4: HTTPConnectionPool(host='www.aslsearch.com', port=80): Max retries exceeded with url: /signs/videos/kiss.mp4 (Caused by NameResolutionError(\"<urllib3.connection.HTTPConnection object at 0x000001EE6D9953D0>: Failed to resolve 'www.aslsearch.com' ([Errno 11001] getaddrinfo failed)\"))\n",
      "Retrying 1/3...\n",
      "Error downloading http://www.aslsearch.com/signs/videos/kiss.mp4: HTTPConnectionPool(host='www.aslsearch.com', port=80): Max retries exceeded with url: /signs/videos/kiss.mp4 (Caused by NameResolutionError(\"<urllib3.connection.HTTPConnection object at 0x000001EE7463E3F0>: Failed to resolve 'www.aslsearch.com' ([Errno 11001] getaddrinfo failed)\"))\n",
      "Retrying 2/3...\n",
      "Error downloading http://www.aslsearch.com/signs/videos/kiss.mp4: HTTPConnectionPool(host='www.aslsearch.com', port=80): Max retries exceeded with url: /signs/videos/kiss.mp4 (Caused by NameResolutionError(\"<urllib3.connection.HTTPConnection object at 0x000001EE6EADDE80>: Failed to resolve 'www.aslsearch.com' ([Errno 11001] getaddrinfo failed)\"))\n",
      "Retrying 3/3...\n",
      "Failed to download http://www.aslsearch.com/signs/videos/kiss.mp4 after 3 attempts.\n",
      "Downloaded https://signstock.blob.core.windows.net/signschool/videos/db_uploads/SignSchool%20Cheek%20Kissing-igoSeqb5kF8.mp4 to sign_language_data\\videos\\kiss_31750.mp4\n"
     ]
    },
    {
     "name": "stderr",
     "output_type": "stream",
     "text": [
      "  2%|▏         | 43/2000 [16:10<14:34:09, 26.80s/it]"
     ]
    },
    {
     "name": "stdout",
     "output_type": "stream",
     "text": [
      "Downloaded https://www.youtube.com/watch?v=EhkIoTNxwGE to sign_language_data\\videos\\language_32146.mp4\n",
      "Downloaded https://www.youtube.com/watch?v=IRuaSHyrm6o to sign_language_data\\videos\\language_68084.mp4\n",
      "Downloaded https://www.youtube.com/watch?v=iYwt-z7Roz4 to sign_language_data\\videos\\language_68085.mp4\n",
      "Downloaded https://www.youtube.com/watch?v=TaeaJ9r1A5U to sign_language_data\\videos\\language_68904.mp4\n",
      "Downloaded https://signstock.blob.core.windows.net/signschool/videos/db_uploads/SignSchool%20Language%203-3MX4tSI4zV0.mp4 to sign_language_data\\videos\\language_32156.mp4\n"
     ]
    },
    {
     "name": "stderr",
     "output_type": "stream",
     "text": [
      "  2%|▏         | 44/2000 [16:25<12:40:24, 23.33s/it]"
     ]
    },
    {
     "name": "stdout",
     "output_type": "stream",
     "text": [
      "Downloaded https://www.youtube.com/watch?v=EhkIoTNxwGE to sign_language_data\\videos\\later_32319.mp4\n",
      "Downloaded https://www.youtube.com/watch?v=X4003aEoiWo to sign_language_data\\videos\\later_32335.mp4\n",
      "Error downloading http://www.aslpro.com/main/l/later.swf: ('Connection aborted.', ConnectionResetError(10054, 'An existing connection was forcibly closed by the remote host', None, 10054, None))\n",
      "Retrying 1/3...\n",
      "Error downloading http://www.aslpro.com/main/l/later.swf: ('Connection aborted.', ConnectionResetError(10054, 'An existing connection was forcibly closed by the remote host', None, 10054, None))\n",
      "Retrying 2/3...\n",
      "Error downloading http://www.aslpro.com/main/l/later.swf: ('Connection aborted.', ConnectionResetError(10054, 'An existing connection was forcibly closed by the remote host', None, 10054, None))\n",
      "Retrying 3/3...\n",
      "Failed to download http://www.aslpro.com/main/l/later.swf after 3 attempts.\n",
      "Error downloading http://www.aslsearch.com/signs/videos/later.mp4: HTTPConnectionPool(host='www.aslsearch.com', port=80): Max retries exceeded with url: /signs/videos/later.mp4 (Caused by NameResolutionError(\"<urllib3.connection.HTTPConnection object at 0x000001EE6EADF320>: Failed to resolve 'www.aslsearch.com' ([Errno 11001] getaddrinfo failed)\"))\n",
      "Retrying 1/3...\n",
      "Error downloading http://www.aslsearch.com/signs/videos/later.mp4: HTTPConnectionPool(host='www.aslsearch.com', port=80): Max retries exceeded with url: /signs/videos/later.mp4 (Caused by NameResolutionError(\"<urllib3.connection.HTTPConnection object at 0x000001EE6EADE7E0>: Failed to resolve 'www.aslsearch.com' ([Errno 11001] getaddrinfo failed)\"))\n",
      "Retrying 2/3...\n",
      "Error downloading http://www.aslsearch.com/signs/videos/later.mp4: HTTPConnectionPool(host='www.aslsearch.com', port=80): Max retries exceeded with url: /signs/videos/later.mp4 (Caused by NameResolutionError(\"<urllib3.connection.HTTPConnection object at 0x000001EE6C4E54C0>: Failed to resolve 'www.aslsearch.com' ([Errno 11001] getaddrinfo failed)\"))\n",
      "Retrying 3/3...\n",
      "Failed to download http://www.aslsearch.com/signs/videos/later.mp4 after 3 attempts.\n",
      "Error downloading http://www.aslsearch.com/signs/videos/later.mp4: HTTPConnectionPool(host='www.aslsearch.com', port=80): Max retries exceeded with url: /signs/videos/later.mp4 (Caused by NameResolutionError(\"<urllib3.connection.HTTPConnection object at 0x000001EE6EA66360>: Failed to resolve 'www.aslsearch.com' ([Errno 11001] getaddrinfo failed)\"))\n",
      "Retrying 1/3...\n",
      "Error downloading http://www.aslsearch.com/signs/videos/later.mp4: HTTPConnectionPool(host='www.aslsearch.com', port=80): Max retries exceeded with url: /signs/videos/later.mp4 (Caused by NameResolutionError(\"<urllib3.connection.HTTPConnection object at 0x000001EE6F5407D0>: Failed to resolve 'www.aslsearch.com' ([Errno 11001] getaddrinfo failed)\"))\n",
      "Retrying 2/3...\n",
      "Error downloading http://www.aslsearch.com/signs/videos/later.mp4: HTTPConnectionPool(host='www.aslsearch.com', port=80): Max retries exceeded with url: /signs/videos/later.mp4 (Caused by NameResolutionError(\"<urllib3.connection.HTTPConnection object at 0x000001EE6F541340>: Failed to resolve 'www.aslsearch.com' ([Errno 11001] getaddrinfo failed)\"))\n",
      "Retrying 3/3...\n"
     ]
    },
    {
     "name": "stderr",
     "output_type": "stream",
     "text": [
      "  2%|▏         | 45/2000 [17:16<17:13:59, 31.73s/it]"
     ]
    },
    {
     "name": "stdout",
     "output_type": "stream",
     "text": [
      "Failed to download http://www.aslsearch.com/signs/videos/later.mp4 after 3 attempts.\n",
      "Downloaded https://www.youtube.com/watch?v=IxO7unGawfk to sign_language_data\\videos\\man_34685.mp4\n",
      "Downloaded http://aslbricks.org/New/ASL-Videos/man.mp4 to sign_language_data\\videos\\man_69395.mp4\n",
      "Downloaded https://www.youtube.com/watch?v=pi_BA9L-UNk to sign_language_data\\videos\\man_68794.mp4\n",
      "Error downloading http://www.aslsearch.com/signs/videos/male.mp4: HTTPConnectionPool(host='www.aslsearch.com', port=80): Max retries exceeded with url: /signs/videos/male.mp4 (Caused by NameResolutionError(\"<urllib3.connection.HTTPConnection object at 0x000001EE6E83C050>: Failed to resolve 'www.aslsearch.com' ([Errno 11001] getaddrinfo failed)\"))\n",
      "Retrying 1/3...\n",
      "Error downloading http://www.aslsearch.com/signs/videos/male.mp4: HTTPConnectionPool(host='www.aslsearch.com', port=80): Max retries exceeded with url: /signs/videos/male.mp4 (Caused by NameResolutionError(\"<urllib3.connection.HTTPConnection object at 0x000001EE7463FE30>: Failed to resolve 'www.aslsearch.com' ([Errno 11001] getaddrinfo failed)\"))\n",
      "Retrying 2/3...\n",
      "Error downloading http://www.aslsearch.com/signs/videos/male.mp4: HTTPConnectionPool(host='www.aslsearch.com', port=80): Max retries exceeded with url: /signs/videos/male.mp4 (Caused by NameResolutionError(\"<urllib3.connection.HTTPConnection object at 0x000001EE6EADE270>: Failed to resolve 'www.aslsearch.com' ([Errno 11001] getaddrinfo failed)\"))\n",
      "Retrying 3/3...\n",
      "Failed to download http://www.aslsearch.com/signs/videos/male.mp4 after 3 attempts.\n"
     ]
    },
    {
     "name": "stderr",
     "output_type": "stream",
     "text": [
      "  2%|▏         | 46/2000 [17:44<16:32:42, 30.48s/it]"
     ]
    },
    {
     "name": "stdout",
     "output_type": "stream",
     "text": [
      "Downloaded https://s3-us-west-1.amazonaws.com/files.startasl.com/asldictionary/man2.mp4 to sign_language_data\\videos\\man_34733.mp4\n",
      "Downloaded https://www.youtube.com/watch?v=XB3Q6IX6CBo to sign_language_data\\videos\\shirt_51054.mp4\n",
      "Downloaded https://www.youtube.com/watch?v=u7GIbrpxyFU to sign_language_data\\videos\\shirt_68928.mp4\n",
      "Downloaded https://s3-us-west-1.amazonaws.com/files.startasl.com/asldictionary/shirt.mp4 to sign_language_data\\videos\\shirt_51057.mp4\n",
      "Error downloading http://www.aslpro.com/main/s/shirt.swf: ('Connection aborted.', ConnectionResetError(10054, 'An existing connection was forcibly closed by the remote host', None, 10054, None))\n",
      "Retrying 1/3...\n",
      "Error downloading http://www.aslpro.com/main/s/shirt.swf: ('Connection aborted.', ConnectionResetError(10054, 'An existing connection was forcibly closed by the remote host', None, 10054, None))\n",
      "Retrying 2/3...\n",
      "Error downloading http://www.aslpro.com/main/s/shirt.swf: ('Connection aborted.', ConnectionResetError(10054, 'An existing connection was forcibly closed by the remote host', None, 10054, None))\n",
      "Retrying 3/3...\n",
      "Failed to download http://www.aslpro.com/main/s/shirt.swf after 3 attempts.\n",
      "Error downloading http://www.aslsearch.com/signs/videos/shirt.mp4: HTTPConnectionPool(host='www.aslsearch.com', port=80): Max retries exceeded with url: /signs/videos/shirt.mp4 (Caused by NameResolutionError(\"<urllib3.connection.HTTPConnection object at 0x000001EE6EADE240>: Failed to resolve 'www.aslsearch.com' ([Errno 11001] getaddrinfo failed)\"))\n",
      "Retrying 1/3...\n",
      "Error downloading http://www.aslsearch.com/signs/videos/shirt.mp4: HTTPConnectionPool(host='www.aslsearch.com', port=80): Max retries exceeded with url: /signs/videos/shirt.mp4 (Caused by NameResolutionError(\"<urllib3.connection.HTTPConnection object at 0x000001EE6EADE6C0>: Failed to resolve 'www.aslsearch.com' ([Errno 11001] getaddrinfo failed)\"))\n",
      "Retrying 2/3...\n",
      "Error downloading http://www.aslsearch.com/signs/videos/shirt.mp4: HTTPConnectionPool(host='www.aslsearch.com', port=80): Max retries exceeded with url: /signs/videos/shirt.mp4 (Caused by NameResolutionError(\"<urllib3.connection.HTTPConnection object at 0x000001EE6D997FE0>: Failed to resolve 'www.aslsearch.com' ([Errno 11001] getaddrinfo failed)\"))\n",
      "Retrying 3/3...\n"
     ]
    },
    {
     "name": "stderr",
     "output_type": "stream",
     "text": [
      "  2%|▏         | 47/2000 [18:23<17:54:02, 33.00s/it]"
     ]
    },
    {
     "name": "stdout",
     "output_type": "stream",
     "text": [
      "Failed to download http://www.aslsearch.com/signs/videos/shirt.mp4 after 3 attempts.\n",
      "Downloaded https://www.youtube.com/watch?v=XB3Q6IX6CBo to sign_language_data\\videos\\study_55356.mp4\n",
      "Downloaded https://www.youtube.com/watch?v=edaot0Pm6NI to sign_language_data\\videos\\study_68428.mp4\n",
      "Downloaded https://www.youtube.com/watch?v=JSwDsjPxKk0 to sign_language_data\\videos\\study_68162.mp4\n",
      "Downloaded https://www.youtube.com/watch?v=kePJ_Y5KPmM to sign_language_data\\videos\\study_68624.mp4\n",
      "Downloaded https://signstock.blob.core.windows.net/signschool/videos/db_uploads/SignSchool%20Study-Yk94i4N_5Ag.mp4 to sign_language_data\\videos\\study_55364.mp4\n"
     ]
    },
    {
     "name": "stderr",
     "output_type": "stream",
     "text": [
      "  2%|▏         | 48/2000 [18:32<14:06:46, 26.03s/it]"
     ]
    },
    {
     "name": "stdout",
     "output_type": "stream",
     "text": [
      "Downloaded https://www.youtube.com/watch?v=x6CehcknaH8 to sign_language_data\\videos\\tall_56835.mp4\n",
      "Error downloading http://www.aslpro.com/main/t/tall.swf: ('Connection aborted.', ConnectionResetError(10054, 'An existing connection was forcibly closed by the remote host', None, 10054, None))\n",
      "Retrying 1/3...\n",
      "Error downloading http://www.aslpro.com/main/t/tall.swf: ('Connection aborted.', ConnectionResetError(10054, 'An existing connection was forcibly closed by the remote host', None, 10054, None))\n",
      "Retrying 2/3...\n",
      "Error downloading http://www.aslpro.com/main/t/tall.swf: ('Connection aborted.', ConnectionResetError(10054, 'An existing connection was forcibly closed by the remote host', None, 10054, None))\n",
      "Retrying 3/3...\n",
      "Failed to download http://www.aslpro.com/main/t/tall.swf after 3 attempts.\n",
      "Error downloading http://www.aslsearch.com/signs/videos/tall.mp4: HTTPConnectionPool(host='www.aslsearch.com', port=80): Max retries exceeded with url: /signs/videos/tall.mp4 (Caused by NameResolutionError(\"<urllib3.connection.HTTPConnection object at 0x000001EE6EA93E90>: Failed to resolve 'www.aslsearch.com' ([Errno 11001] getaddrinfo failed)\"))\n",
      "Retrying 1/3...\n",
      "Error downloading http://www.aslsearch.com/signs/videos/tall.mp4: HTTPConnectionPool(host='www.aslsearch.com', port=80): Max retries exceeded with url: /signs/videos/tall.mp4 (Caused by NameResolutionError(\"<urllib3.connection.HTTPConnection object at 0x000001EE7463EF60>: Failed to resolve 'www.aslsearch.com' ([Errno 11001] getaddrinfo failed)\"))\n",
      "Retrying 2/3...\n",
      "Error downloading http://www.aslsearch.com/signs/videos/tall.mp4: HTTPConnectionPool(host='www.aslsearch.com', port=80): Max retries exceeded with url: /signs/videos/tall.mp4 (Caused by NameResolutionError(\"<urllib3.connection.HTTPConnection object at 0x000001EE7463F7A0>: Failed to resolve 'www.aslsearch.com' ([Errno 11001] getaddrinfo failed)\"))\n",
      "Retrying 3/3...\n",
      "Failed to download http://www.aslsearch.com/signs/videos/tall.mp4 after 3 attempts.\n",
      "Downloaded https://s3-us-west-1.amazonaws.com/files.startasl.com/asldictionary/tall.mp4 to sign_language_data\\videos\\tall_56838.mp4\n",
      "Downloaded https://signstock.blob.core.windows.net/signschool/videos/db_uploads/SignSchool%20Big%2C%20Giant%2C%20Tall%2C%20Adult%2C%20Grown-up-oXwKsrsVUE8.mp4 to sign_language_data\\videos\\tall_56839.mp4\n"
     ]
    },
    {
     "name": "stderr",
     "output_type": "stream",
     "text": [
      "  2%|▏         | 49/2000 [19:12<16:23:04, 30.23s/it]"
     ]
    },
    {
     "name": "stdout",
     "output_type": "stream",
     "text": [
      "Downloaded https://www.youtube.com/watch?v=A5dihMAjeTE to sign_language_data\\videos\\white_63191.mp4\n",
      "Downloaded http://aslbricks.org/New/ASL-Videos/white.mp4 to sign_language_data\\videos\\white_69533.mp4\n",
      "Downloaded https://www.youtube.com/watch?v=kddq0oAgBS0 to sign_language_data\\videos\\white_68622.mp4\n",
      "Downloaded https://www.youtube.com/watch?v=TomJbyh-XVY to sign_language_data\\videos\\white_68182.mp4\n",
      "Downloaded https://www.youtube.com/watch?v=WprUBqi3iBc to sign_language_data\\videos\\white_70245.mp4\n"
     ]
    },
    {
     "name": "stderr",
     "output_type": "stream",
     "text": [
      "  2%|▎         | 50/2000 [19:26<13:37:46, 25.16s/it]"
     ]
    },
    {
     "name": "stdout",
     "output_type": "stream",
     "text": [
      "Downloaded https://www.youtube.com/watch?v=A5dihMAjeTE to sign_language_data\\videos\\wrong_64082.mp4\n",
      "Downloaded https://www.youtube.com/watch?v=BNOGQec2v8M to sign_language_data\\videos\\wrong_68189.mp4\n",
      "Downloaded https://www.youtube.com/watch?v=CSj7IScvZnE to sign_language_data\\videos\\wrong_70296.mp4\n",
      "Downloaded https://www.youtube.com/watch?v=VwejDy96MzM to sign_language_data\\videos\\wrong_70132.mp4\n"
     ]
    },
    {
     "name": "stderr",
     "output_type": "stream",
     "text": [
      "  3%|▎         | 51/2000 [19:36<11:08:51, 20.59s/it]"
     ]
    },
    {
     "name": "stdout",
     "output_type": "stream",
     "text": [
      "Downloaded https://media.asldeafined.com/vocabulary/1468929417.3806.mp4 to sign_language_data\\videos\\wrong_64087.mp4\n",
      "Downloaded https://www.youtube.com/watch?v=jPn0FQxkdBc to sign_language_data\\videos\\accident_00618.mp4\n",
      "Error downloading http://www.aslsearch.com/signs/videos/accident.mp4: HTTPConnectionPool(host='www.aslsearch.com', port=80): Max retries exceeded with url: /signs/videos/accident.mp4 (Caused by NameResolutionError(\"<urllib3.connection.HTTPConnection object at 0x000001EE7463E000>: Failed to resolve 'www.aslsearch.com' ([Errno 11001] getaddrinfo failed)\"))\n",
      "Retrying 1/3...\n",
      "Error downloading http://www.aslsearch.com/signs/videos/accident.mp4: HTTPConnectionPool(host='www.aslsearch.com', port=80): Max retries exceeded with url: /signs/videos/accident.mp4 (Caused by NameResolutionError(\"<urllib3.connection.HTTPConnection object at 0x000001EE7463CC50>: Failed to resolve 'www.aslsearch.com' ([Errno 11001] getaddrinfo failed)\"))\n",
      "Retrying 2/3...\n",
      "Error downloading http://www.aslsearch.com/signs/videos/accident.mp4: HTTPConnectionPool(host='www.aslsearch.com', port=80): Max retries exceeded with url: /signs/videos/accident.mp4 (Caused by NameResolutionError(\"<urllib3.connection.HTTPConnection object at 0x000001EE6EA64740>: Failed to resolve 'www.aslsearch.com' ([Errno 11001] getaddrinfo failed)\"))\n",
      "Retrying 3/3...\n",
      "Failed to download http://www.aslsearch.com/signs/videos/accident.mp4 after 3 attempts.\n",
      "Downloaded https://media.spreadthesign.com/video/mp4/13/72311.mp4 to sign_language_data\\videos\\accident_00624.mp4\n",
      "Downloaded https://signstock.blob.core.windows.net/signschool/videos/db_uploads/SignSchool%20Accident%2C%20Accidentally-0F9FseAyJb4.mp4 to sign_language_data\\videos\\accident_00625.mp4\n",
      "Downloaded https://signstock.blob.core.windows.net/signschool/videos/db_uploads/SignSchool%20Car%20Accident-lEGmzocv1g4.mp4 to sign_language_data\\videos\\accident_00626.mp4\n"
     ]
    },
    {
     "name": "stderr",
     "output_type": "stream",
     "text": [
      "  3%|▎         | 52/2000 [20:01<11:52:43, 21.95s/it]"
     ]
    },
    {
     "name": "stdout",
     "output_type": "stream",
     "text": [
      "Downloaded https://www.youtube.com/watch?v=jPn0FQxkdBc to sign_language_data\\videos\\apple_02997.mp4\n",
      "Downloaded http://aslbricks.org/New/ASL-Videos/apple.mp4 to sign_language_data\\videos\\apple_69213.mp4\n",
      "Downloaded https://www.youtube.com/watch?v=BT3cFFLNzD8 to sign_language_data\\videos\\apple_68003.mp4\n",
      "Downloaded https://www.youtube.com/watch?v=iVgjg202V6M to sign_language_data\\videos\\apple_68576.mp4\n",
      "Downloaded https://www.youtube.com/watch?v=pc0-gVEETVg to sign_language_data\\videos\\apple_70309.mp4\n"
     ]
    },
    {
     "name": "stderr",
     "output_type": "stream",
     "text": [
      "  3%|▎         | 53/2000 [20:16<10:44:33, 19.86s/it]"
     ]
    },
    {
     "name": "stdout",
     "output_type": "stream",
     "text": [
      "Downloaded https://www.youtube.com/watch?v=pDqITge_TGs to sign_language_data\\videos\\bird_06326.mp4\n",
      "Downloaded http://aslbricks.org/New/ASL-Videos/bird.mp4 to sign_language_data\\videos\\bird_69233.mp4\n",
      "Downloaded https://www.youtube.com/watch?v=lvqGMGFmuV4 to sign_language_data\\videos\\bird_70107.mp4\n",
      "Downloaded https://signstock.blob.core.windows.net/signschool/videos/db_uploads/SignSchool%20Bird-9B3c2F8jE7M.mp4 to sign_language_data\\videos\\bird_06333.mp4\n"
     ]
    },
    {
     "name": "stderr",
     "output_type": "stream",
     "text": [
      "  3%|▎         | 54/2000 [20:37<10:57:51, 20.28s/it]"
     ]
    },
    {
     "name": "stdout",
     "output_type": "stream",
     "text": [
      "Downloaded https://signstock.blob.core.windows.net/signschool/videos/db_uploads/SignSchool%20Bird-FoeeEapec3M.mp4 to sign_language_data\\videos\\bird_06334.mp4\n",
      "Downloaded https://www.youtube.com/watch?v=PPmQd2zWdP0 to sign_language_data\\videos\\change_09945.mp4\n",
      "Downloaded https://www.youtube.com/watch?v=Z25ng9maolE to sign_language_data\\videos\\change_70379.mp4\n",
      "Downloaded https://www.signingsavvy.com/signs/mp4/5/5424.mp4 to sign_language_data\\videos\\change_09966.mp4\n",
      "Downloaded https://www.signingsavvy.com/signs/mp4/5/5425.mp4 to sign_language_data\\videos\\change_09967.mp4\n",
      "Downloaded https://www.youtube.com/watch?v=lT0E7jGHIKY to sign_language_data\\videos\\change_09968.mp4\n"
     ]
    },
    {
     "name": "stderr",
     "output_type": "stream",
     "text": [
      "  3%|▎         | 55/2000 [20:46<9:11:16, 17.01s/it] "
     ]
    },
    {
     "name": "stdout",
     "output_type": "stream",
     "text": [
      "Downloaded https://www.youtube.com/watch?v=PPmQd2zWdP0 to sign_language_data\\videos\\color_11752.mp4\n",
      "Downloaded http://aslbricks.org/New/ASL-Videos/color.mp4 to sign_language_data\\videos\\color_69274.mp4\n",
      "Downloaded https://www.youtube.com/watch?v=13NxXYPYpb0 to sign_language_data\\videos\\color_68202.mp4\n",
      "Downloaded https://www.youtube.com/watch?v=MslyAd8WAwU to sign_language_data\\videos\\color_68027.mp4\n",
      "Error downloading https://www.handspeak.com/word/c/color.mp4: 403 Client Error: Forbidden for url: https://www.handspeak.com/word/c/color.mp4\n",
      "Retrying 1/3...\n",
      "Error downloading https://www.handspeak.com/word/c/color.mp4: 403 Client Error: Forbidden for url: https://www.handspeak.com/word/c/color.mp4\n",
      "Retrying 2/3...\n",
      "Error downloading https://www.handspeak.com/word/c/color.mp4: 403 Client Error: Forbidden for url: https://www.handspeak.com/word/c/color.mp4\n",
      "Retrying 3/3...\n"
     ]
    },
    {
     "name": "stderr",
     "output_type": "stream",
     "text": [
      "  3%|▎         | 56/2000 [21:13<10:49:00, 20.03s/it]"
     ]
    },
    {
     "name": "stdout",
     "output_type": "stream",
     "text": [
      "Failed to download https://www.handspeak.com/word/c/color.mp4 after 3 attempts.\n",
      "Downloaded https://www.youtube.com/watch?v=PPmQd2zWdP0 to sign_language_data\\videos\\corn_13309.mp4\n",
      "Downloaded http://aslbricks.org/New/ASL-Videos/corn.mp4 to sign_language_data\\videos\\corn_69282.mp4\n",
      "Error downloading http://www.aslsearch.com/signs/videos/corn.mp4: HTTPConnectionPool(host='www.aslsearch.com', port=80): Max retries exceeded with url: /signs/videos/corn.mp4 (Caused by NameResolutionError(\"<urllib3.connection.HTTPConnection object at 0x000001EE7463F980>: Failed to resolve 'www.aslsearch.com' ([Errno 11001] getaddrinfo failed)\"))\n",
      "Retrying 1/3...\n",
      "Error downloading http://www.aslsearch.com/signs/videos/corn.mp4: HTTPConnectionPool(host='www.aslsearch.com', port=80): Max retries exceeded with url: /signs/videos/corn.mp4 (Caused by NameResolutionError(\"<urllib3.connection.HTTPConnection object at 0x000001EE7463FA10>: Failed to resolve 'www.aslsearch.com' ([Errno 11001] getaddrinfo failed)\"))\n",
      "Retrying 2/3...\n",
      "Error downloading http://www.aslsearch.com/signs/videos/corn.mp4: HTTPConnectionPool(host='www.aslsearch.com', port=80): Max retries exceeded with url: /signs/videos/corn.mp4 (Caused by NameResolutionError(\"<urllib3.connection.HTTPConnection object at 0x000001EE7463E660>: Failed to resolve 'www.aslsearch.com' ([Errno 11001] getaddrinfo failed)\"))\n",
      "Retrying 3/3...\n",
      "Failed to download http://www.aslsearch.com/signs/videos/corn.mp4 after 3 attempts.\n",
      "Downloaded https://media.spreadthesign.com/video/mp4/13/69483.mp4 to sign_language_data\\videos\\corn_13325.mp4\n",
      "Downloaded https://signstock.blob.core.windows.net/signschool/videos/db_uploads/SignSchool%20Corn%202-FKgZc_MRxV4.mp4 to sign_language_data\\videos\\corn_13326.mp4\n"
     ]
    },
    {
     "name": "stderr",
     "output_type": "stream",
     "text": [
      "  3%|▎         | 57/2000 [21:40<11:53:45, 22.04s/it]"
     ]
    },
    {
     "name": "stdout",
     "output_type": "stream",
     "text": [
      "Downloaded https://www.youtube.com/watch?v=PPmQd2zWdP0 to sign_language_data\\videos\\cow_13681.mp4\n",
      "Downloaded http://aslbricks.org/New/ASL-Videos/cow.mp4 to sign_language_data\\videos\\cow_69283.mp4\n",
      "Downloaded https://signstock.blob.core.windows.net/signschool/videos/db_uploads/SignSchool%20Cow-6-hRTBII8CE.mp4 to sign_language_data\\videos\\cow_13697.mp4\n",
      "Downloaded https://signstock.blob.core.windows.net/signschool/videos/SignSchool%20Cow%202.mp4 to sign_language_data\\videos\\cow_13698.mp4\n"
     ]
    },
    {
     "name": "stderr",
     "output_type": "stream",
     "text": [
      "  3%|▎         | 58/2000 [21:56<10:53:17, 20.18s/it]"
     ]
    },
    {
     "name": "stdout",
     "output_type": "stream",
     "text": [
      "Downloaded https://media.asldeafined.com/vocabulary/1466904642.2093.mp4 to sign_language_data\\videos\\cow_13699.mp4\n",
      "Downloaded https://www.youtube.com/watch?v=ChIupJBcxjs to sign_language_data\\videos\\dance_14621.mp4\n",
      "Downloaded https://www.youtube.com/watch?v=G6pN8BFQYDI to sign_language_data\\videos\\dance_68032.mp4\n",
      "Downloaded https://www.youtube.com/watch?v=VwejDy96MzM to sign_language_data\\videos\\dance_70152.mp4\n",
      "Downloaded https://www.youtube.com/watch?v=w6ZfGv4ns64 to sign_language_data\\videos\\dance_68988.mp4\n",
      "Downloaded https://www.youtube.com/watch?v=y8Rm0Q7fDYk to sign_language_data\\videos\\dance_69048.mp4\n"
     ]
    },
    {
     "name": "stderr",
     "output_type": "stream",
     "text": [
      "  3%|▎         | 59/2000 [22:05<9:03:30, 16.80s/it] "
     ]
    },
    {
     "name": "stdout",
     "output_type": "stream",
     "text": [
      "Downloaded https://www.youtube.com/watch?v=ChIupJBcxjs to sign_language_data\\videos\\dark_14669.mp4\n",
      "Downloaded http://aslbricks.org/New/ASL-Videos/dark.mp4 to sign_language_data\\videos\\dark_69290.mp4\n",
      "Downloaded https://signstock.blob.core.windows.net/signschool/videos/db_uploads/SignSchool%20Dark%203-5soiYfTU5hI.mp4 to sign_language_data\\videos\\dark_14673.mp4\n",
      "Downloaded https://signstock.blob.core.windows.net/signschool/videos/db_uploads/SignSchool%20Dark-AYvdy-XWNNg.mp4 to sign_language_data\\videos\\dark_14674.mp4\n"
     ]
    },
    {
     "name": "stderr",
     "output_type": "stream",
     "text": [
      "  3%|▎         | 60/2000 [22:21<9:00:58, 16.73s/it]"
     ]
    },
    {
     "name": "stdout",
     "output_type": "stream",
     "text": [
      "Downloaded https://media.asldeafined.com/vocabulary/1466906377.6228.mp4 to sign_language_data\\videos\\dark_14675.mp4\n",
      "Downloaded https://www.youtube.com/watch?v=ChIupJBcxjs to sign_language_data\\videos\\doctor_17007.mp4\n",
      "Downloaded https://www.youtube.com/watch?v=QPiZO8Aswgo to sign_language_data\\videos\\doctor_68842.mp4\n",
      "Downloaded https://www.youtube.com/watch?v=sErq0TJMKEo to sign_language_data\\videos\\doctor_70049.mp4\n",
      "Downloaded https://s3-us-west-1.amazonaws.com/files.startasl.com/asldictionary/doctor.mp4 to sign_language_data\\videos\\doctor_17015.mp4\n",
      "Downloaded https://signstock.blob.core.windows.net/signschool/videos/db_uploads/SignSchool%20Doctor-zl9aTqYRVXQ.mp4 to sign_language_data\\videos\\doctor_17016.mp4\n"
     ]
    },
    {
     "name": "stderr",
     "output_type": "stream",
     "text": [
      "  3%|▎         | 61/2000 [22:39<9:09:58, 17.02s/it]"
     ]
    },
    {
     "name": "stdout",
     "output_type": "stream",
     "text": [
      "Downloaded https://www.youtube.com/watch?v=2oaCeSdHG-A to sign_language_data\\videos\\eat_18316.mp4\n",
      "Downloaded http://aslbricks.org/New/ASL-Videos/eat.mp4 to sign_language_data\\videos\\eat_69307.mp4\n",
      "Downloaded https://www.youtube.com/watch?v=HAqSIA2GG3g to sign_language_data\\videos\\eat_68520.mp4\n",
      "Downloaded https://www.youtube.com/watch?v=lsjFBdE3X7M to sign_language_data\\videos\\eat_68044.mp4\n",
      "Downloaded https://www.youtube.com/watch?v=zOzgRJ3bAdI to sign_language_data\\videos\\eat_69086.mp4\n"
     ]
    },
    {
     "name": "stderr",
     "output_type": "stream",
     "text": [
      "  3%|▎         | 62/2000 [22:51<8:19:32, 15.47s/it]"
     ]
    },
    {
     "name": "stdout",
     "output_type": "stream",
     "text": [
      "Downloaded https://www.youtube.com/watch?v=2oaCeSdHG-A to sign_language_data\\videos\\enjoy_19255.mp4\n",
      "Downloaded https://www.youtube.com/watch?v=aYMV4_YuPi8 to sign_language_data\\videos\\enjoy_68344.mp4\n",
      "Downloaded https://www.youtube.com/watch?v=rNb-ogcyRAE to sign_language_data\\videos\\enjoy_68046.mp4\n",
      "Downloaded https://www.youtube.com/watch?v=sErq0TJMKEo to sign_language_data\\videos\\enjoy_70051.mp4\n"
     ]
    },
    {
     "name": "stderr",
     "output_type": "stream",
     "text": [
      "  3%|▎         | 63/2000 [23:01<7:24:13, 13.76s/it]"
     ]
    },
    {
     "name": "stdout",
     "output_type": "stream",
     "text": [
      "Downloaded https://media.asldeafined.com/vocabulary/1468376460.8089.mp4 to sign_language_data\\videos\\enjoy_19261.mp4\n",
      "Downloaded https://aslsignbank.haskins.yale.edu/dictionary/protected_media/glossvideo/ASL/FO/FORGET-565.mp4 to sign_language_data\\videos\\forget_65761.mp4\n",
      "Downloaded https://www.youtube.com/watch?v=l_aBsu7kVqI to sign_language_data\\videos\\forget_68053.mp4\n",
      "Downloaded https://www.youtube.com/watch?v=mK0OtDTC5To to sign_language_data\\videos\\forget_68692.mp4\n",
      "Downloaded https://www.youtube.com/watch?v=TxfYzcnSl-o to sign_language_data\\videos\\forget_68054.mp4\n",
      "Downloaded https://www.youtube.com/watch?v=Z25ng9maolE to sign_language_data\\videos\\forget_70376.mp4\n"
     ]
    },
    {
     "name": "stderr",
     "output_type": "stream",
     "text": [
      "  3%|▎         | 64/2000 [23:10<6:41:48, 12.45s/it]"
     ]
    },
    {
     "name": "stdout",
     "output_type": "stream",
     "text": [
      "Downloaded http://aslbricks.org/New/ASL-Videos/give.mp4 to sign_language_data\\videos\\give_69343.mp4\n",
      "Downloaded https://www.youtube.com/watch?v=PkJpgPxNhwE to sign_language_data\\videos\\give_24655.mp4\n",
      "Downloaded https://www.youtube.com/watch?v=qMgcmGOiNmw to sign_language_data\\videos\\give_24656.mp4\n",
      "Downloaded https://www.youtube.com/watch?v=U5p42-d-buw to sign_language_data\\videos\\give_24657.mp4\n",
      "Downloaded https://www.youtube.com/watch?v=wEKZPaO7XTQ to sign_language_data\\videos\\give_24658.mp4\n"
     ]
    },
    {
     "name": "stderr",
     "output_type": "stream",
     "text": [
      "  3%|▎         | 65/2000 [23:25<7:00:38, 13.04s/it]"
     ]
    },
    {
     "name": "stdout",
     "output_type": "stream",
     "text": [
      "Downloaded https://aslsignbank.haskins.yale.edu/dictionary/protected_media/glossvideo/ASL/LA/LAST-168.mp4 to sign_language_data\\videos\\last_66010.mp4\n",
      "Downloaded https://www.youtube.com/watch?v=BsaWM5I_G1o to sign_language_data\\videos\\last_68086.mp4\n",
      "Downloaded https://www.youtube.com/watch?v=Yp5z7Px_aV8 to sign_language_data\\videos\\last_69068.mp4\n",
      "Error downloading http://www.aslsearch.com/signs/videos/last.mp4: HTTPConnectionPool(host='www.aslsearch.com', port=80): Max retries exceeded with url: /signs/videos/last.mp4 (Caused by NameResolutionError(\"<urllib3.connection.HTTPConnection object at 0x000001EE6EA65220>: Failed to resolve 'www.aslsearch.com' ([Errno 11001] getaddrinfo failed)\"))\n",
      "Retrying 1/3...\n",
      "Error downloading http://www.aslsearch.com/signs/videos/last.mp4: HTTPConnectionPool(host='www.aslsearch.com', port=80): Max retries exceeded with url: /signs/videos/last.mp4 (Caused by NameResolutionError(\"<urllib3.connection.HTTPConnection object at 0x000001EE6EA66FF0>: Failed to resolve 'www.aslsearch.com' ([Errno 11001] getaddrinfo failed)\"))\n",
      "Retrying 2/3...\n",
      "Error downloading http://www.aslsearch.com/signs/videos/last.mp4: HTTPConnectionPool(host='www.aslsearch.com', port=80): Max retries exceeded with url: /signs/videos/last.mp4 (Caused by NameResolutionError(\"<urllib3.connection.HTTPConnection object at 0x000001EE6EADDB50>: Failed to resolve 'www.aslsearch.com' ([Errno 11001] getaddrinfo failed)\"))\n",
      "Retrying 3/3...\n",
      "Failed to download http://www.aslsearch.com/signs/videos/last.mp4 after 3 attempts.\n",
      "Downloaded https://signstock.blob.core.windows.net/signschool/videos/db_uploads/SignSchool%20Last%2C%20Final-ZrL9QA06fZs.mp4 to sign_language_data\\videos\\last_32248.mp4\n"
     ]
    },
    {
     "name": "stderr",
     "output_type": "stream",
     "text": [
      "  3%|▎         | 66/2000 [23:49<8:52:23, 16.52s/it]"
     ]
    },
    {
     "name": "stdout",
     "output_type": "stream",
     "text": [
      "Downloaded https://www.youtube.com/watch?v=IxO7unGawfk to sign_language_data\\videos\\meet_35506.mp4\n",
      "Downloaded https://www.youtube.com/watch?v=pWFDhzkId9o to sign_language_data\\videos\\meet_68099.mp4\n",
      "Downloaded https://www.youtube.com/watch?v=VSBIqNFEQxI to sign_language_data\\videos\\meet_68974.mp4\n",
      "Downloaded https://signstock.blob.core.windows.net/signschool/videos/db_uploads/SignSchool%20Meet-SHPBneo_ofY.mp4 to sign_language_data\\videos\\meet_35511.mp4\n",
      "Downloaded https://signstock.blob.core.windows.net/signschool/videos/db_uploads/SignSchool%20Meet-UvaayIDXkuw.mp4 to sign_language_data\\videos\\meet_35512.mp4\n"
     ]
    },
    {
     "name": "stderr",
     "output_type": "stream",
     "text": [
      "  3%|▎         | 67/2000 [24:02<8:16:41, 15.42s/it]"
     ]
    },
    {
     "name": "stdout",
     "output_type": "stream",
     "text": [
      "Downloaded https://www.youtube.com/watch?v=zHd4YEFzpwE to sign_language_data\\videos\\pink_42827.mp4\n",
      "Downloaded http://aslbricks.org/New/ASL-Videos/pink.mp4 to sign_language_data\\videos\\pink_69430.mp4\n",
      "Downloaded https://www.youtube.com/watch?v=2igUp9Fvq-E to sign_language_data\\videos\\pink_68132.mp4\n",
      "Downloaded https://www.youtube.com/watch?v=cx14s_gt60I to sign_language_data\\videos\\pink_68398.mp4\n",
      "Downloaded https://www.youtube.com/watch?v=WprUBqi3iBc to sign_language_data\\videos\\pink_70246.mp4\n"
     ]
    },
    {
     "name": "stderr",
     "output_type": "stream",
     "text": [
      "  3%|▎         | 68/2000 [24:14<7:45:55, 14.47s/it]"
     ]
    },
    {
     "name": "stdout",
     "output_type": "stream",
     "text": [
      "Downloaded https://www.youtube.com/watch?v=zHd4YEFzpwE to sign_language_data\\videos\\pizza_42953.mp4\n",
      "Downloaded http://aslbricks.org/New/ASL-Videos/pizza.mp4 to sign_language_data\\videos\\pizza_69431.mp4\n",
      "Downloaded https://www.youtube.com/watch?v=XIZ2DrdEU3k to sign_language_data\\videos\\pizza_42974.mp4\n",
      "Error downloading http://www.aslpro.com/main/p/pizza.swf: ('Connection aborted.', ConnectionResetError(10054, 'An existing connection was forcibly closed by the remote host', None, 10054, None))\n",
      "Retrying 1/3...\n",
      "Error downloading http://www.aslpro.com/main/p/pizza.swf: ('Connection aborted.', ConnectionResetError(10054, 'An existing connection was forcibly closed by the remote host', None, 10054, None))\n",
      "Retrying 2/3...\n",
      "Error downloading http://www.aslpro.com/main/p/pizza.swf: ('Connection aborted.', ConnectionResetError(10054, 'An existing connection was forcibly closed by the remote host', None, 10054, None))\n",
      "Retrying 3/3...\n",
      "Failed to download http://www.aslpro.com/main/p/pizza.swf after 3 attempts.\n",
      "Error downloading http://www.aslsearch.com/signs/videos/pizza.mp4: HTTPConnectionPool(host='www.aslsearch.com', port=80): Max retries exceeded with url: /signs/videos/pizza.mp4 (Caused by NameResolutionError(\"<urllib3.connection.HTTPConnection object at 0x000001EE6EA67C20>: Failed to resolve 'www.aslsearch.com' ([Errno 11001] getaddrinfo failed)\"))\n",
      "Retrying 1/3...\n",
      "Error downloading http://www.aslsearch.com/signs/videos/pizza.mp4: HTTPConnectionPool(host='www.aslsearch.com', port=80): Max retries exceeded with url: /signs/videos/pizza.mp4 (Caused by NameResolutionError(\"<urllib3.connection.HTTPConnection object at 0x000001EE6EADFE00>: Failed to resolve 'www.aslsearch.com' ([Errno 11001] getaddrinfo failed)\"))\n",
      "Retrying 2/3...\n",
      "Error downloading http://www.aslsearch.com/signs/videos/pizza.mp4: HTTPConnectionPool(host='www.aslsearch.com', port=80): Max retries exceeded with url: /signs/videos/pizza.mp4 (Caused by NameResolutionError(\"<urllib3.connection.HTTPConnection object at 0x000001EE6EADF830>: Failed to resolve 'www.aslsearch.com' ([Errno 11001] getaddrinfo failed)\"))\n",
      "Retrying 3/3...\n"
     ]
    },
    {
     "name": "stderr",
     "output_type": "stream",
     "text": [
      "  3%|▎         | 69/2000 [24:56<12:07:24, 22.60s/it]"
     ]
    },
    {
     "name": "stdout",
     "output_type": "stream",
     "text": [
      "Failed to download http://www.aslsearch.com/signs/videos/pizza.mp4 after 3 attempts.\n",
      "Downloaded http://aslbricks.org/New/ASL-Videos/play.mp4 to sign_language_data\\videos\\play_69433.mp4\n",
      "Downloaded https://media.spreadthesign.com/video/mp4/13/116328.mp4 to sign_language_data\\videos\\play_43166.mp4\n",
      "Downloaded https://www.youtube.com/watch?v=75FwzqQqyM0 to sign_language_data\\videos\\play_68288.mp4\n",
      "Downloaded https://www.youtube.com/watch?v=M80w0mda7zM to sign_language_data\\videos\\play_68133.mp4\n"
     ]
    },
    {
     "name": "stderr",
     "output_type": "stream",
     "text": [
      "  4%|▎         | 70/2000 [25:09<10:31:04, 19.62s/it]"
     ]
    },
    {
     "name": "stdout",
     "output_type": "stream",
     "text": [
      "Downloaded https://media.asldeafined.com/vocabulary/1468726646.6390.mp4 to sign_language_data\\videos\\play_43170.mp4\n",
      "Downloaded https://www.youtube.com/watch?v=XB3Q6IX6CBo to sign_language_data\\videos\\school_49577.mp4\n",
      "Downloaded http://aslbricks.org/New/ASL-Videos/school.mp4 to sign_language_data\\videos\\school_69455.mp4\n",
      "Downloaded https://www.youtube.com/watch?v=2EAilZspev4 to sign_language_data\\videos\\school_68218.mp4\n",
      "Downloaded https://www.youtube.com/watch?v=g-w38Q0QrWE to sign_language_data\\videos\\school_68510.mp4\n",
      "Downloaded https://www.youtube.com/watch?v=hjS0dQDgbjo to sign_language_data\\videos\\school_70207.mp4\n"
     ]
    },
    {
     "name": "stderr",
     "output_type": "stream",
     "text": [
      "  4%|▎         | 71/2000 [25:23<9:36:25, 17.93s/it] "
     ]
    },
    {
     "name": "stdout",
     "output_type": "stream",
     "text": [
      "Downloaded https://www.youtube.com/watch?v=XB3Q6IX6CBo to sign_language_data\\videos\\secretary_50036.mp4\n",
      "Downloaded https://media.spreadthesign.com/video/mp4/13/51753.mp4 to sign_language_data\\videos\\secretary_50037.mp4\n",
      "Downloaded https://s3-us-west-1.amazonaws.com/files.startasl.com/asldictionary/secretary.mp4 to sign_language_data\\videos\\secretary_50038.mp4\n",
      "Downloaded https://signstock.blob.core.windows.net/signschool/videos/db_uploads/SignSchool%20Secetary%202-GLOdTEXLaEQ.mp4 to sign_language_data\\videos\\secretary_50039.mp4\n",
      "Downloaded https://signstock.blob.core.windows.net/signschool/videos/db_uploads/SignSchool%20Secetary-crVLvTbmEGo.mp4 to sign_language_data\\videos\\secretary_50040.mp4\n"
     ]
    },
    {
     "name": "stderr",
     "output_type": "stream",
     "text": [
      "  4%|▎         | 72/2000 [25:34<8:35:32, 16.04s/it]"
     ]
    },
    {
     "name": "stdout",
     "output_type": "stream",
     "text": [
      "Downloaded https://www.youtube.com/watch?v=XB3Q6IX6CBo to sign_language_data\\videos\\short_51206.mp4\n",
      "Downloaded https://www.youtube.com/watch?v=bq-HmgjGzmw to sign_language_data\\videos\\short_70355.mp4\n",
      "Downloaded https://s3-us-west-1.amazonaws.com/files.startasl.com/asldictionary/short.mp4 to sign_language_data\\videos\\short_51221.mp4\n",
      "Downloaded https://signstock.blob.core.windows.net/signschool/videos/db_uploads/SignSchool%20Child-D-7K4sSsMWw.mp4 to sign_language_data\\videos\\short_51223.mp4\n",
      "Downloaded https://signstock.blob.core.windows.net/signschool/videos/db_uploads/SignSchool%20Short-bjSx00_gSOs.mp4 to sign_language_data\\videos\\short_51224.mp4\n"
     ]
    },
    {
     "name": "stderr",
     "output_type": "stream",
     "text": [
      "  4%|▎         | 73/2000 [25:50<8:32:25, 15.96s/it]"
     ]
    },
    {
     "name": "stdout",
     "output_type": "stream",
     "text": [
      "Downloaded https://www.youtube.com/watch?v=x6CehcknaH8 to sign_language_data\\videos\\time_58488.mp4\n",
      "Downloaded http://aslbricks.org/New/ASL-Videos/time.mp4 to sign_language_data\\videos\\time_69511.mp4\n",
      "Downloaded https://www.youtube.com/watch?v=7Mhil9I1Ocs to sign_language_data\\videos\\time_68294.mp4\n",
      "Downloaded https://www.youtube.com/watch?v=bq-HmgjGzmw to sign_language_data\\videos\\time_70356.mp4\n",
      "Downloaded https://www.youtube.com/watch?v=m_nEgm4uX6U to sign_language_data\\videos\\time_68171.mp4\n"
     ]
    },
    {
     "name": "stderr",
     "output_type": "stream",
     "text": [
      "  4%|▎         | 74/2000 [26:02<7:49:35, 14.63s/it]"
     ]
    },
    {
     "name": "stdout",
     "output_type": "stream",
     "text": [
      "Downloaded https://www.youtube.com/watch?v=A5dihMAjeTE to sign_language_data\\videos\\want_62241.mp4\n",
      "Downloaded http://aslbricks.org/New/ASL-Videos/want.mp4 to sign_language_data\\videos\\want_69524.mp4\n",
      "Downloaded https://www.youtube.com/watch?v=co7zdtkJW1E to sign_language_data\\videos\\want_68178.mp4\n",
      "Downloaded https://www.youtube.com/watch?v=I0v6P6HEGCA to sign_language_data\\videos\\want_68540.mp4\n"
     ]
    },
    {
     "name": "stderr",
     "output_type": "stream",
     "text": [
      "  4%|▍         | 75/2000 [26:15<7:38:20, 14.29s/it]"
     ]
    },
    {
     "name": "stdout",
     "output_type": "stream",
     "text": [
      "Downloaded https://s3-us-west-1.amazonaws.com/files.startasl.com/asldictionary/want.mp4 to sign_language_data\\videos\\want_62246.mp4\n",
      "Downloaded https://www.youtube.com/watch?v=A5dihMAjeTE to sign_language_data\\videos\\work_63769.mp4\n",
      "Downloaded https://www.youtube.com/watch?v=TZ65f_6GglU to sign_language_data\\videos\\work_68924.mp4\n",
      "Downloaded https://www.youtube.com/watch?v=pDRfD3bNsEo to sign_language_data\\videos\\work_63804.mp4\n",
      "Error downloading http://www.aslpro.com/main/w/work.swf: ('Connection aborted.', ConnectionResetError(10054, 'An existing connection was forcibly closed by the remote host', None, 10054, None))\n",
      "Retrying 1/3...\n",
      "Error downloading http://www.aslpro.com/main/w/work.swf: ('Connection aborted.', ConnectionResetError(10054, 'An existing connection was forcibly closed by the remote host', None, 10054, None))\n",
      "Retrying 2/3...\n",
      "Error downloading http://www.aslpro.com/main/w/work.swf: ('Connection aborted.', ConnectionResetError(10054, 'An existing connection was forcibly closed by the remote host', None, 10054, None))\n",
      "Retrying 3/3...\n",
      "Failed to download http://www.aslpro.com/main/w/work.swf after 3 attempts.\n",
      "Error downloading http://www.aslsearch.com/signs/videos/work.mp4: HTTPConnectionPool(host='www.aslsearch.com', port=80): Max retries exceeded with url: /signs/videos/work.mp4 (Caused by NameResolutionError(\"<urllib3.connection.HTTPConnection object at 0x000001EE6EA663F0>: Failed to resolve 'www.aslsearch.com' ([Errno 11001] getaddrinfo failed)\"))\n",
      "Retrying 1/3...\n",
      "Error downloading http://www.aslsearch.com/signs/videos/work.mp4: HTTPConnectionPool(host='www.aslsearch.com', port=80): Max retries exceeded with url: /signs/videos/work.mp4 (Caused by NameResolutionError(\"<urllib3.connection.HTTPConnection object at 0x000001EE6EADEA20>: Failed to resolve 'www.aslsearch.com' ([Errno 11001] getaddrinfo failed)\"))\n",
      "Retrying 2/3...\n",
      "Error downloading http://www.aslsearch.com/signs/videos/work.mp4: HTTPConnectionPool(host='www.aslsearch.com', port=80): Max retries exceeded with url: /signs/videos/work.mp4 (Caused by NameResolutionError(\"<urllib3.connection.HTTPConnection object at 0x000001EE6EADCC80>: Failed to resolve 'www.aslsearch.com' ([Errno 11001] getaddrinfo failed)\"))\n",
      "Retrying 3/3...\n"
     ]
    },
    {
     "name": "stderr",
     "output_type": "stream",
     "text": [
      "  4%|▍         | 76/2000 [26:52<11:20:21, 21.22s/it]"
     ]
    },
    {
     "name": "stdout",
     "output_type": "stream",
     "text": [
      "Failed to download http://www.aslsearch.com/signs/videos/work.mp4 after 3 attempts.\n",
      "Downloaded https://www.youtube.com/watch?v=jPn0FQxkdBc to sign_language_data\\videos\\africa_01382.mp4\n",
      "Downloaded https://media.spreadthesign.com/video/mp4/13/50049.mp4 to sign_language_data\\videos\\africa_01383.mp4\n",
      "Downloaded https://s3-us-west-1.amazonaws.com/files.startasl.com/asldictionary/africa.mp4 to sign_language_data\\videos\\africa_01384.mp4\n",
      "Downloaded https://signstock.blob.core.windows.net/signschool/videos/db_uploads/SignSchool%20Africa%202-TrChLRg2itY.mp4 to sign_language_data\\videos\\africa_01385.mp4\n",
      "Downloaded https://signstock.blob.core.windows.net/signschool/videos/db_uploads/SignSchool%20Africa%203-Jn6HQbdJE48.mp4 to sign_language_data\\videos\\africa_01386.mp4\n"
     ]
    },
    {
     "name": "stderr",
     "output_type": "stream",
     "text": [
      "  4%|▍         | 77/2000 [27:04<9:50:54, 18.44s/it] "
     ]
    },
    {
     "name": "stdout",
     "output_type": "stream",
     "text": [
      "Downloaded https://www.youtube.com/watch?v=pDqITge_TGs to sign_language_data\\videos\\basketball_05227.mp4\n",
      "Downloaded http://aslbricks.org/New/ASL-Videos/basketball.mp4 to sign_language_data\\videos\\basketball_69225.mp4\n"
     ]
    },
    {
     "name": "stderr",
     "output_type": "stream",
     "text": [
      "  4%|▍         | 77/2000 [27:15<11:20:48, 21.24s/it]\n"
     ]
    },
    {
     "ename": "KeyboardInterrupt",
     "evalue": "",
     "output_type": "error",
     "traceback": [
      "\u001b[1;31m---------------------------------------------------------------------------\u001b[0m",
      "\u001b[1;31mKeyboardInterrupt\u001b[0m                         Traceback (most recent call last)",
      "Cell \u001b[1;32mIn[27], line 15\u001b[0m\n\u001b[0;32m     12\u001b[0m     download_video(video_url, video_path)\n\u001b[0;32m     14\u001b[0m \u001b[38;5;66;03m# Extract frames\u001b[39;00m\n\u001b[1;32m---> 15\u001b[0m \u001b[43mextract_frames\u001b[49m\u001b[43m(\u001b[49m\u001b[43mvideo_path\u001b[49m\u001b[43m,\u001b[49m\u001b[43m \u001b[49m\u001b[43mgloss\u001b[49m\u001b[43m)\u001b[49m\n",
      "Cell \u001b[1;32mIn[26], line 16\u001b[0m, in \u001b[0;36mextract_frames\u001b[1;34m(video_path, gloss)\u001b[0m\n\u001b[0;32m     14\u001b[0m         \u001b[38;5;28;01mbreak\u001b[39;00m\n\u001b[0;32m     15\u001b[0m     frame_file \u001b[38;5;241m=\u001b[39m os\u001b[38;5;241m.\u001b[39mpath\u001b[38;5;241m.\u001b[39mjoin(frames_dir, \u001b[38;5;124mf\u001b[39m\u001b[38;5;124m'\u001b[39m\u001b[38;5;132;01m{\u001b[39;00mgloss\u001b[38;5;132;01m}\u001b[39;00m\u001b[38;5;124m_frame_\u001b[39m\u001b[38;5;132;01m{\u001b[39;00mi\u001b[38;5;132;01m}\u001b[39;00m\u001b[38;5;124m.jpg\u001b[39m\u001b[38;5;124m'\u001b[39m)\n\u001b[1;32m---> 16\u001b[0m     \u001b[43mcv2\u001b[49m\u001b[38;5;241;43m.\u001b[39;49m\u001b[43mimwrite\u001b[49m\u001b[43m(\u001b[49m\u001b[43mframe_file\u001b[49m\u001b[43m,\u001b[49m\u001b[43m \u001b[49m\u001b[43mframe\u001b[49m\u001b[43m)\u001b[49m\n\u001b[0;32m     18\u001b[0m cap\u001b[38;5;241m.\u001b[39mrelease()\n",
      "\u001b[1;31mKeyboardInterrupt\u001b[0m: "
     ]
    }
   ],
   "source": [
    "# Process each gloss\n",
    "for gloss_entry in tqdm(data):\n",
    "    gloss = gloss_entry['gloss']\n",
    "    instances = gloss_entry['instances']\n",
    "    for idx, instance in enumerate(instances[:VIDEOS_PER_GLOSS]):\n",
    "        video_url = instance['url']\n",
    "        video_id = instance['video_id']\n",
    "        video_path = os.path.join(video_dir, f'{gloss}_{video_id}.mp4')\n",
    "        \n",
    "        # Download the video\n",
    "        if not os.path.exists(video_path):\n",
    "            download_video(video_url, video_path)\n",
    "        \n",
    "        # Extract frames\n",
    "        extract_frames(video_path, gloss)"
   ]
  },
  {
   "cell_type": "code",
   "execution_count": null,
   "metadata": {},
   "outputs": [],
   "source": []
  }
 ],
 "metadata": {
  "kernelspec": {
   "display_name": "Python 3",
   "language": "python",
   "name": "python3"
  },
  "language_info": {
   "codemirror_mode": {
    "name": "ipython",
    "version": 3
   },
   "file_extension": ".py",
   "mimetype": "text/x-python",
   "name": "python",
   "nbconvert_exporter": "python",
   "pygments_lexer": "ipython3",
   "version": "3.12.4"
  }
 },
 "nbformat": 4,
 "nbformat_minor": 2
}
